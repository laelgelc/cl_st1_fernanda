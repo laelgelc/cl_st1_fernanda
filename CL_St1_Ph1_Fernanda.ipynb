{
 "cells": [
  {
   "cell_type": "markdown",
   "id": "810d9f10-ec19-4b09-8f90-e983e460b319",
   "metadata": {
    "jp-MarkdownHeadingCollapsed": true
   },
   "source": [
    "<center>\n",
    "<img src=\"https://laelgelcpublic.s3.sa-east-1.amazonaws.com/lael_50_years_narrow_white.png.no_years.400px_96dpi.png\" width=\"300\" alt=\"LAEL 50 years logo\">\n",
    "<h3>APPLIED LINGUISTICS GRADUATE PROGRAMME (LAEL)</h3>\n",
    "</center>\n",
    "<hr>"
   ]
  },
  {
   "cell_type": "markdown",
   "id": "888c2c96-2fc3-4a1a-995b-c388036a2a15",
   "metadata": {},
   "source": [
    "# Corpus Linguistics - Study 1 - Phase 1 - Fernanda"
   ]
  },
  {
   "cell_type": "markdown",
   "id": "60552836-4e24-45fa-a537-692248055ea1",
   "metadata": {},
   "source": [
    "This phase aims at:\n",
    "\n",
    "- Extracting data for a pilot Lexical Multi-Dimensional Analysis."
   ]
  },
  {
   "cell_type": "markdown",
   "id": "a685d8b0-7715-45a6-9489-2d3db9b346c8",
   "metadata": {},
   "source": [
    "## Required Python packages"
   ]
  },
  {
   "cell_type": "markdown",
   "id": "c0e16e73-b1b9-4838-8cce-a29dc300868e",
   "metadata": {},
   "source": [
    "- pandas\n",
    "- PyMuPDF\n",
    "- tqdm"
   ]
  },
  {
   "cell_type": "markdown",
   "id": "c42b4e5d-6c02-46c0-baba-3dde7bf970c4",
   "metadata": {},
   "source": [
    "## Import the required libraries"
   ]
  },
  {
   "cell_type": "code",
   "id": "1e9fe8fe-887a-482c-96ee-48e3734d785a",
   "metadata": {
    "ExecuteTime": {
     "end_time": "2025-09-04T13:50:03.159814Z",
     "start_time": "2025-09-04T13:50:02.299545Z"
    }
   },
   "source": [
    "import os\n",
    "import sys\n",
    "import pandas as pd\n",
    "import fitz  # PyMuPDF\n",
    "import logging\n",
    "from tqdm import tqdm\n",
    "import shutil"
   ],
   "outputs": [],
   "execution_count": 1
  },
  {
   "cell_type": "markdown",
   "id": "bd97447a-47ea-4fed-a375-32871fbb8664",
   "metadata": {},
   "source": [
    "## Define input variables"
   ]
  },
  {
   "cell_type": "code",
   "id": "630ed11f-2ae2-44c7-838a-afb7f4daca31",
   "metadata": {
    "ExecuteTime": {
     "end_time": "2025-09-04T13:50:05.773125Z",
     "start_time": "2025-09-04T13:50:05.767936Z"
    }
   },
   "source": [
    "input_directory = 'cl_st1_ph1_fernanda_folders'\n",
    "output_directory = 'cl_st1_ph1_output'\n",
    "log_filename = f\"{output_directory}/cl_st1_ph1_fernanda.log\""
   ],
   "outputs": [],
   "execution_count": 2
  },
  {
   "cell_type": "markdown",
   "id": "ebf55df8-cdc0-4193-9686-f4ebcabffbd3",
   "metadata": {},
   "source": [
    "## Create output directory"
   ]
  },
  {
   "cell_type": "code",
   "execution_count": 3,
   "id": "d29fc720-e7ce-489d-94f0-bfe8d096f5fb",
   "metadata": {
    "ExecuteTime": {
     "end_time": "2025-07-19T15:48:14.819938Z",
     "start_time": "2025-07-19T15:48:14.812308Z"
    }
   },
   "outputs": [
    {
     "name": "stdout",
     "output_type": "stream",
     "text": [
      "Output directory successfully created.\n"
     ]
    }
   ],
   "source": [
    "# Check if the output directory already exists. If it does, do nothing. If it doesn't exist, create it.\n",
    "if os.path.exists(output_directory):\n",
    "    print('Output directory already exists.')\n",
    "else:\n",
    "    try:\n",
    "        os.makedirs(output_directory)\n",
    "        print('Output directory successfully created.')\n",
    "    except OSError as e:\n",
    "        print('Failed to create the directory:', e)\n",
    "        sys.exit(1)"
   ]
  },
  {
   "cell_type": "markdown",
   "id": "f5791fd1-977c-495b-8ccb-0ba5d98db796",
   "metadata": {},
   "source": [
    "## Set up logging"
   ]
  },
  {
   "cell_type": "code",
   "id": "8c540e3e-2417-4ca0-91c7-cdf3a8f317b1",
   "metadata": {
    "ExecuteTime": {
     "end_time": "2025-09-04T13:50:12.830625Z",
     "start_time": "2025-09-04T13:50:12.825415Z"
    }
   },
   "source": [
    "logging.basicConfig(\n",
    "    level=logging.INFO,\n",
    "    format='%(asctime)s - %(levelname)s - %(message)s',\n",
    "    filename = log_filename\n",
    ")"
   ],
   "outputs": [],
   "execution_count": 3
  },
  {
   "cell_type": "markdown",
   "id": "4c1c9fe0-5b93-47f7-ace4-f6a59416430a",
   "metadata": {},
   "source": [
    "## Import the directory structure into a DataFrame"
   ]
  },
  {
   "cell_type": "code",
   "execution_count": 4,
   "id": "8e9081e7-3571-4487-9032-d3fd27c8ce5d",
   "metadata": {
    "ExecuteTime": {
     "end_time": "2025-07-19T15:54:55.785985Z",
     "start_time": "2025-07-19T15:54:41.164547Z"
    }
   },
   "outputs": [],
   "source": [
    "# Initialising an empty list to hold the directory information\n",
    "directory_data = []\n",
    "\n",
    "# Walking through the directory structure\n",
    "for root, dirs, files in os.walk(input_directory):\n",
    "    #for file in tqdm(files, desc='Processing files'):\n",
    "    for file in files:\n",
    "        if file.endswith('.pdf'):\n",
    "            try:\n",
    "                # Getting the full file path\n",
    "                file_path = os.path.join(root, file)\n",
    "                # Splitting the root into individual directories\n",
    "                directory_parts = root.split(os.sep)\n",
    "                # Creating a dictionary for this file's information\n",
    "                file_info = {'File': file}\n",
    "                # Adding the file path to the dictionary\n",
    "                file_info['File Path'] = file_path\n",
    "                # Adding each part of the directory to the dictionary with appropriate keys\n",
    "                for i, part in enumerate(directory_parts):\n",
    "                    file_info[f\"Directory Level {i+1}\"] = part\n",
    "                \n",
    "                # Opening the PDF file\n",
    "                document = fitz.open(file_path)\n",
    "                # Extracting text from each page\n",
    "                text = ''\n",
    "                for page_num in range(document.page_count):\n",
    "                    page = document[page_num]\n",
    "                    text += page.get_text()\n",
    "\n",
    "                file_info['Scraped Text'] = text\n",
    "                document.close()\n",
    "                \n",
    "                # Adding the file info to the list\n",
    "                directory_data.append(file_info)\n",
    "                \n",
    "                # Logging the successful extraction\n",
    "                logging.info(f\"Successfully scraped {file_path}\")\n",
    "            except Exception as e:\n",
    "                # Logging any errors\n",
    "                logging.error(f\"Error scraping {file_path}: {str(e)}\")\n",
    "\n",
    "# Converting the list of dictionaries into a DataFrame\n",
    "df = pd.DataFrame(directory_data)"
   ]
  },
  {
   "cell_type": "code",
   "execution_count": 5,
   "id": "409a2b0a-b4bc-4068-8707-89e453d69eeb",
   "metadata": {
    "ExecuteTime": {
     "end_time": "2025-07-19T15:55:22.766828Z",
     "start_time": "2025-07-19T15:55:22.735817Z"
    }
   },
   "outputs": [
    {
     "data": {
      "text/html": [
       "<div>\n",
       "<style scoped>\n",
       "    .dataframe tbody tr th:only-of-type {\n",
       "        vertical-align: middle;\n",
       "    }\n",
       "\n",
       "    .dataframe tbody tr th {\n",
       "        vertical-align: top;\n",
       "    }\n",
       "\n",
       "    .dataframe thead th {\n",
       "        text-align: right;\n",
       "    }\n",
       "</style>\n",
       "<table border=\"1\" class=\"dataframe\">\n",
       "  <thead>\n",
       "    <tr style=\"text-align: right;\">\n",
       "      <th></th>\n",
       "      <th>File</th>\n",
       "      <th>File Path</th>\n",
       "      <th>Directory Level 1</th>\n",
       "      <th>Directory Level 2</th>\n",
       "      <th>Directory Level 3</th>\n",
       "      <th>Directory Level 4</th>\n",
       "      <th>Directory Level 5</th>\n",
       "      <th>Scraped Text</th>\n",
       "    </tr>\n",
       "  </thead>\n",
       "  <tbody>\n",
       "    <tr>\n",
       "      <th>0</th>\n",
       "      <td>CPA 2023 Fatec Baixada Santista.pdf</td>\n",
       "      <td>cl_st1_ph1_fernanda_folders\\cpa\\22-23\\r06\\u005...</td>\n",
       "      <td>cl_st1_ph1_fernanda_folders</td>\n",
       "      <td>cpa</td>\n",
       "      <td>22-23</td>\n",
       "      <td>r06</td>\n",
       "      <td>u005</td>\n",
       "      <td>\\n \\n \\n \\n \\n \\n \\n \\n \\n \\n \\n \\n \\n \\n \\n ...</td>\n",
       "    </tr>\n",
       "    <tr>\n",
       "      <th>1</th>\n",
       "      <td>CPA 2023 Fatec Mauá.pdf</td>\n",
       "      <td>cl_st1_ph1_fernanda_folders\\cpa\\22-23\\r06\\u113...</td>\n",
       "      <td>cl_st1_ph1_fernanda_folders</td>\n",
       "      <td>cpa</td>\n",
       "      <td>22-23</td>\n",
       "      <td>r06</td>\n",
       "      <td>u113</td>\n",
       "      <td>1 \\n____________________...</td>\n",
       "    </tr>\n",
       "    <tr>\n",
       "      <th>2</th>\n",
       "      <td>CPA 2023 Fatec São Bernardo do Campo.pdf</td>\n",
       "      <td>cl_st1_ph1_fernanda_folders\\cpa\\22-23\\r06\\u126...</td>\n",
       "      <td>cl_st1_ph1_fernanda_folders</td>\n",
       "      <td>cpa</td>\n",
       "      <td>22-23</td>\n",
       "      <td>r06</td>\n",
       "      <td>u126</td>\n",
       "      <td>1 \\n \\n \\n \\n \\n \\n \\n \\n \\n \\n \\n \\n \\n \\n \\n...</td>\n",
       "    </tr>\n",
       "    <tr>\n",
       "      <th>3</th>\n",
       "      <td>CPA 2023 Fatec Praia Grande.pdf</td>\n",
       "      <td>cl_st1_ph1_fernanda_folders\\cpa\\22-23\\r06\\u129...</td>\n",
       "      <td>cl_st1_ph1_fernanda_folders</td>\n",
       "      <td>cpa</td>\n",
       "      <td>22-23</td>\n",
       "      <td>r06</td>\n",
       "      <td>u129</td>\n",
       "      <td>\\n_ \\nAdministração Central \\nUnidade do Ens...</td>\n",
       "    </tr>\n",
       "    <tr>\n",
       "      <th>4</th>\n",
       "      <td>CPA 2023 Fatec Zona Sul.pdf</td>\n",
       "      <td>cl_st1_ph1_fernanda_folders\\cpa\\22-23\\r06\\u137...</td>\n",
       "      <td>cl_st1_ph1_fernanda_folders</td>\n",
       "      <td>cpa</td>\n",
       "      <td>22-23</td>\n",
       "      <td>r06</td>\n",
       "      <td>u137</td>\n",
       "      <td>\\n___________________________________________...</td>\n",
       "    </tr>\n",
       "    <tr>\n",
       "      <th>...</th>\n",
       "      <td>...</td>\n",
       "      <td>...</td>\n",
       "      <td>...</td>\n",
       "      <td>...</td>\n",
       "      <td>...</td>\n",
       "      <td>...</td>\n",
       "      <td>...</td>\n",
       "      <td>...</td>\n",
       "    </tr>\n",
       "    <tr>\n",
       "      <th>108</th>\n",
       "      <td>PP_RAA 2024 Fatec_Cotia.pdf</td>\n",
       "      <td>cl_st1_ph1_fernanda_folders\\raa\\24\\r06\\u270\\PP...</td>\n",
       "      <td>cl_st1_ph1_fernanda_folders</td>\n",
       "      <td>raa</td>\n",
       "      <td>24</td>\n",
       "      <td>r06</td>\n",
       "      <td>u270</td>\n",
       "      <td>\\n  \\n \\nAdministração Central - Unidade do E...</td>\n",
       "    </tr>\n",
       "    <tr>\n",
       "      <th>109</th>\n",
       "      <td>RADE e2022_r2024 Fatec_Praia Grande v.02.pdf</td>\n",
       "      <td>cl_st1_ph1_fernanda_folders\\rade\\23-24\\r06\\u12...</td>\n",
       "      <td>cl_st1_ph1_fernanda_folders</td>\n",
       "      <td>rade</td>\n",
       "      <td>23-24</td>\n",
       "      <td>r06</td>\n",
       "      <td>u129</td>\n",
       "      <td>1 \\n \\n \\n \\n \\n \\n \\n \\n \\n \\n \\nDireção da ...</td>\n",
       "    </tr>\n",
       "    <tr>\n",
       "      <th>110</th>\n",
       "      <td>RADE e2022_r2024 Fatec_Zona Sul v.02.pdf</td>\n",
       "      <td>cl_st1_ph1_fernanda_folders\\rade\\23-24\\r06\\u13...</td>\n",
       "      <td>cl_st1_ph1_fernanda_folders</td>\n",
       "      <td>rade</td>\n",
       "      <td>23-24</td>\n",
       "      <td>r06</td>\n",
       "      <td>u137</td>\n",
       "      <td>1 \\n \\n \\n \\n \\n \\n \\n \\n \\n \\n \\nDireção da ...</td>\n",
       "    </tr>\n",
       "    <tr>\n",
       "      <th>111</th>\n",
       "      <td>RADE e2022_r2024 Fatec_São Caetano do Sul v.02...</td>\n",
       "      <td>cl_st1_ph1_fernanda_folders\\rade\\23-24\\r06\\u16...</td>\n",
       "      <td>cl_st1_ph1_fernanda_folders</td>\n",
       "      <td>rade</td>\n",
       "      <td>23-24</td>\n",
       "      <td>r06</td>\n",
       "      <td>u168</td>\n",
       "      <td>1 \\n \\n \\n \\n \\n \\n \\n \\n \\n \\n \\nDireção da ...</td>\n",
       "    </tr>\n",
       "    <tr>\n",
       "      <th>112</th>\n",
       "      <td>RADE e2022_r2024 Fatec_Cotia v.02.pdf</td>\n",
       "      <td>cl_st1_ph1_fernanda_folders\\rade\\23-24\\r06\\u27...</td>\n",
       "      <td>cl_st1_ph1_fernanda_folders</td>\n",
       "      <td>rade</td>\n",
       "      <td>23-24</td>\n",
       "      <td>r06</td>\n",
       "      <td>u270</td>\n",
       "      <td>1 \\n \\n \\n \\n \\n \\n \\n \\n \\n \\n \\nDireção da ...</td>\n",
       "    </tr>\n",
       "  </tbody>\n",
       "</table>\n",
       "<p>113 rows × 8 columns</p>\n",
       "</div>"
      ],
      "text/plain": [
       "                                                  File  \\\n",
       "0                  CPA 2023 Fatec Baixada Santista.pdf   \n",
       "1                              CPA 2023 Fatec Mauá.pdf   \n",
       "2             CPA 2023 Fatec São Bernardo do Campo.pdf   \n",
       "3                      CPA 2023 Fatec Praia Grande.pdf   \n",
       "4                          CPA 2023 Fatec Zona Sul.pdf   \n",
       "..                                                 ...   \n",
       "108                        PP_RAA 2024 Fatec_Cotia.pdf   \n",
       "109       RADE e2022_r2024 Fatec_Praia Grande v.02.pdf   \n",
       "110           RADE e2022_r2024 Fatec_Zona Sul v.02.pdf   \n",
       "111  RADE e2022_r2024 Fatec_São Caetano do Sul v.02...   \n",
       "112              RADE e2022_r2024 Fatec_Cotia v.02.pdf   \n",
       "\n",
       "                                             File Path  \\\n",
       "0    cl_st1_ph1_fernanda_folders\\cpa\\22-23\\r06\\u005...   \n",
       "1    cl_st1_ph1_fernanda_folders\\cpa\\22-23\\r06\\u113...   \n",
       "2    cl_st1_ph1_fernanda_folders\\cpa\\22-23\\r06\\u126...   \n",
       "3    cl_st1_ph1_fernanda_folders\\cpa\\22-23\\r06\\u129...   \n",
       "4    cl_st1_ph1_fernanda_folders\\cpa\\22-23\\r06\\u137...   \n",
       "..                                                 ...   \n",
       "108  cl_st1_ph1_fernanda_folders\\raa\\24\\r06\\u270\\PP...   \n",
       "109  cl_st1_ph1_fernanda_folders\\rade\\23-24\\r06\\u12...   \n",
       "110  cl_st1_ph1_fernanda_folders\\rade\\23-24\\r06\\u13...   \n",
       "111  cl_st1_ph1_fernanda_folders\\rade\\23-24\\r06\\u16...   \n",
       "112  cl_st1_ph1_fernanda_folders\\rade\\23-24\\r06\\u27...   \n",
       "\n",
       "               Directory Level 1 Directory Level 2 Directory Level 3  \\\n",
       "0    cl_st1_ph1_fernanda_folders               cpa             22-23   \n",
       "1    cl_st1_ph1_fernanda_folders               cpa             22-23   \n",
       "2    cl_st1_ph1_fernanda_folders               cpa             22-23   \n",
       "3    cl_st1_ph1_fernanda_folders               cpa             22-23   \n",
       "4    cl_st1_ph1_fernanda_folders               cpa             22-23   \n",
       "..                           ...               ...               ...   \n",
       "108  cl_st1_ph1_fernanda_folders               raa                24   \n",
       "109  cl_st1_ph1_fernanda_folders              rade             23-24   \n",
       "110  cl_st1_ph1_fernanda_folders              rade             23-24   \n",
       "111  cl_st1_ph1_fernanda_folders              rade             23-24   \n",
       "112  cl_st1_ph1_fernanda_folders              rade             23-24   \n",
       "\n",
       "    Directory Level 4 Directory Level 5  \\\n",
       "0                 r06              u005   \n",
       "1                 r06              u113   \n",
       "2                 r06              u126   \n",
       "3                 r06              u129   \n",
       "4                 r06              u137   \n",
       "..                ...               ...   \n",
       "108               r06              u270   \n",
       "109               r06              u129   \n",
       "110               r06              u137   \n",
       "111               r06              u168   \n",
       "112               r06              u270   \n",
       "\n",
       "                                          Scraped Text  \n",
       "0     \\n \\n \\n \\n \\n \\n \\n \\n \\n \\n \\n \\n \\n \\n \\n ...  \n",
       "1                          1 \\n____________________...  \n",
       "2    1 \\n \\n \\n \\n \\n \\n \\n \\n \\n \\n \\n \\n \\n \\n \\n...  \n",
       "3      \\n_ \\nAdministração Central \\nUnidade do Ens...  \n",
       "4     \\n___________________________________________...  \n",
       "..                                                 ...  \n",
       "108   \\n  \\n \\nAdministração Central - Unidade do E...  \n",
       "109  1 \\n \\n \\n \\n \\n \\n \\n \\n \\n \\n \\nDireção da ...  \n",
       "110  1 \\n \\n \\n \\n \\n \\n \\n \\n \\n \\n \\nDireção da ...  \n",
       "111  1 \\n \\n \\n \\n \\n \\n \\n \\n \\n \\n \\nDireção da ...  \n",
       "112  1 \\n \\n \\n \\n \\n \\n \\n \\n \\n \\n \\nDireção da ...  \n",
       "\n",
       "[113 rows x 8 columns]"
      ]
     },
     "execution_count": 5,
     "metadata": {},
     "output_type": "execute_result"
    }
   ],
   "source": [
    "df"
   ]
  },
  {
   "cell_type": "markdown",
   "id": "fdd102c8-f6b7-4812-b0d3-0bd8deb5d1c7",
   "metadata": {},
   "source": [
    "## Rename the columns"
   ]
  },
  {
   "cell_type": "code",
   "execution_count": 6,
   "id": "98f5009f-4bed-4497-a8d5-85a0a5c325b5",
   "metadata": {
    "ExecuteTime": {
     "end_time": "2025-07-19T15:55:28.812755Z",
     "start_time": "2025-07-19T15:55:28.800880Z"
    }
   },
   "outputs": [],
   "source": [
    "df = df.rename(columns={'Directory Level 1': 'Root Directory', 'Directory Level 2': 'Document Type', 'Directory Level 3': 'Year', 'Directory Level 4': 'Branch', 'Directory Level 5': 'Unit'})"
   ]
  },
  {
   "cell_type": "code",
   "execution_count": 7,
   "id": "5ab30502-69e2-4d8a-a067-ae36beadd11a",
   "metadata": {
    "ExecuteTime": {
     "end_time": "2025-07-19T15:55:31.449484Z",
     "start_time": "2025-07-19T15:55:31.425064Z"
    }
   },
   "outputs": [
    {
     "data": {
      "text/html": [
       "<div>\n",
       "<style scoped>\n",
       "    .dataframe tbody tr th:only-of-type {\n",
       "        vertical-align: middle;\n",
       "    }\n",
       "\n",
       "    .dataframe tbody tr th {\n",
       "        vertical-align: top;\n",
       "    }\n",
       "\n",
       "    .dataframe thead th {\n",
       "        text-align: right;\n",
       "    }\n",
       "</style>\n",
       "<table border=\"1\" class=\"dataframe\">\n",
       "  <thead>\n",
       "    <tr style=\"text-align: right;\">\n",
       "      <th></th>\n",
       "      <th>File</th>\n",
       "      <th>File Path</th>\n",
       "      <th>Root Directory</th>\n",
       "      <th>Document Type</th>\n",
       "      <th>Year</th>\n",
       "      <th>Branch</th>\n",
       "      <th>Unit</th>\n",
       "      <th>Scraped Text</th>\n",
       "    </tr>\n",
       "  </thead>\n",
       "  <tbody>\n",
       "    <tr>\n",
       "      <th>0</th>\n",
       "      <td>CPA 2023 Fatec Baixada Santista.pdf</td>\n",
       "      <td>cl_st1_ph1_fernanda_folders\\cpa\\22-23\\r06\\u005...</td>\n",
       "      <td>cl_st1_ph1_fernanda_folders</td>\n",
       "      <td>cpa</td>\n",
       "      <td>22-23</td>\n",
       "      <td>r06</td>\n",
       "      <td>u005</td>\n",
       "      <td>\\n \\n \\n \\n \\n \\n \\n \\n \\n \\n \\n \\n \\n \\n \\n ...</td>\n",
       "    </tr>\n",
       "    <tr>\n",
       "      <th>1</th>\n",
       "      <td>CPA 2023 Fatec Mauá.pdf</td>\n",
       "      <td>cl_st1_ph1_fernanda_folders\\cpa\\22-23\\r06\\u113...</td>\n",
       "      <td>cl_st1_ph1_fernanda_folders</td>\n",
       "      <td>cpa</td>\n",
       "      <td>22-23</td>\n",
       "      <td>r06</td>\n",
       "      <td>u113</td>\n",
       "      <td>1 \\n____________________...</td>\n",
       "    </tr>\n",
       "    <tr>\n",
       "      <th>2</th>\n",
       "      <td>CPA 2023 Fatec São Bernardo do Campo.pdf</td>\n",
       "      <td>cl_st1_ph1_fernanda_folders\\cpa\\22-23\\r06\\u126...</td>\n",
       "      <td>cl_st1_ph1_fernanda_folders</td>\n",
       "      <td>cpa</td>\n",
       "      <td>22-23</td>\n",
       "      <td>r06</td>\n",
       "      <td>u126</td>\n",
       "      <td>1 \\n \\n \\n \\n \\n \\n \\n \\n \\n \\n \\n \\n \\n \\n \\n...</td>\n",
       "    </tr>\n",
       "    <tr>\n",
       "      <th>3</th>\n",
       "      <td>CPA 2023 Fatec Praia Grande.pdf</td>\n",
       "      <td>cl_st1_ph1_fernanda_folders\\cpa\\22-23\\r06\\u129...</td>\n",
       "      <td>cl_st1_ph1_fernanda_folders</td>\n",
       "      <td>cpa</td>\n",
       "      <td>22-23</td>\n",
       "      <td>r06</td>\n",
       "      <td>u129</td>\n",
       "      <td>\\n_ \\nAdministração Central \\nUnidade do Ens...</td>\n",
       "    </tr>\n",
       "    <tr>\n",
       "      <th>4</th>\n",
       "      <td>CPA 2023 Fatec Zona Sul.pdf</td>\n",
       "      <td>cl_st1_ph1_fernanda_folders\\cpa\\22-23\\r06\\u137...</td>\n",
       "      <td>cl_st1_ph1_fernanda_folders</td>\n",
       "      <td>cpa</td>\n",
       "      <td>22-23</td>\n",
       "      <td>r06</td>\n",
       "      <td>u137</td>\n",
       "      <td>\\n___________________________________________...</td>\n",
       "    </tr>\n",
       "    <tr>\n",
       "      <th>...</th>\n",
       "      <td>...</td>\n",
       "      <td>...</td>\n",
       "      <td>...</td>\n",
       "      <td>...</td>\n",
       "      <td>...</td>\n",
       "      <td>...</td>\n",
       "      <td>...</td>\n",
       "      <td>...</td>\n",
       "    </tr>\n",
       "    <tr>\n",
       "      <th>108</th>\n",
       "      <td>PP_RAA 2024 Fatec_Cotia.pdf</td>\n",
       "      <td>cl_st1_ph1_fernanda_folders\\raa\\24\\r06\\u270\\PP...</td>\n",
       "      <td>cl_st1_ph1_fernanda_folders</td>\n",
       "      <td>raa</td>\n",
       "      <td>24</td>\n",
       "      <td>r06</td>\n",
       "      <td>u270</td>\n",
       "      <td>\\n  \\n \\nAdministração Central - Unidade do E...</td>\n",
       "    </tr>\n",
       "    <tr>\n",
       "      <th>109</th>\n",
       "      <td>RADE e2022_r2024 Fatec_Praia Grande v.02.pdf</td>\n",
       "      <td>cl_st1_ph1_fernanda_folders\\rade\\23-24\\r06\\u12...</td>\n",
       "      <td>cl_st1_ph1_fernanda_folders</td>\n",
       "      <td>rade</td>\n",
       "      <td>23-24</td>\n",
       "      <td>r06</td>\n",
       "      <td>u129</td>\n",
       "      <td>1 \\n \\n \\n \\n \\n \\n \\n \\n \\n \\n \\nDireção da ...</td>\n",
       "    </tr>\n",
       "    <tr>\n",
       "      <th>110</th>\n",
       "      <td>RADE e2022_r2024 Fatec_Zona Sul v.02.pdf</td>\n",
       "      <td>cl_st1_ph1_fernanda_folders\\rade\\23-24\\r06\\u13...</td>\n",
       "      <td>cl_st1_ph1_fernanda_folders</td>\n",
       "      <td>rade</td>\n",
       "      <td>23-24</td>\n",
       "      <td>r06</td>\n",
       "      <td>u137</td>\n",
       "      <td>1 \\n \\n \\n \\n \\n \\n \\n \\n \\n \\n \\nDireção da ...</td>\n",
       "    </tr>\n",
       "    <tr>\n",
       "      <th>111</th>\n",
       "      <td>RADE e2022_r2024 Fatec_São Caetano do Sul v.02...</td>\n",
       "      <td>cl_st1_ph1_fernanda_folders\\rade\\23-24\\r06\\u16...</td>\n",
       "      <td>cl_st1_ph1_fernanda_folders</td>\n",
       "      <td>rade</td>\n",
       "      <td>23-24</td>\n",
       "      <td>r06</td>\n",
       "      <td>u168</td>\n",
       "      <td>1 \\n \\n \\n \\n \\n \\n \\n \\n \\n \\n \\nDireção da ...</td>\n",
       "    </tr>\n",
       "    <tr>\n",
       "      <th>112</th>\n",
       "      <td>RADE e2022_r2024 Fatec_Cotia v.02.pdf</td>\n",
       "      <td>cl_st1_ph1_fernanda_folders\\rade\\23-24\\r06\\u27...</td>\n",
       "      <td>cl_st1_ph1_fernanda_folders</td>\n",
       "      <td>rade</td>\n",
       "      <td>23-24</td>\n",
       "      <td>r06</td>\n",
       "      <td>u270</td>\n",
       "      <td>1 \\n \\n \\n \\n \\n \\n \\n \\n \\n \\n \\nDireção da ...</td>\n",
       "    </tr>\n",
       "  </tbody>\n",
       "</table>\n",
       "<p>113 rows × 8 columns</p>\n",
       "</div>"
      ],
      "text/plain": [
       "                                                  File  \\\n",
       "0                  CPA 2023 Fatec Baixada Santista.pdf   \n",
       "1                              CPA 2023 Fatec Mauá.pdf   \n",
       "2             CPA 2023 Fatec São Bernardo do Campo.pdf   \n",
       "3                      CPA 2023 Fatec Praia Grande.pdf   \n",
       "4                          CPA 2023 Fatec Zona Sul.pdf   \n",
       "..                                                 ...   \n",
       "108                        PP_RAA 2024 Fatec_Cotia.pdf   \n",
       "109       RADE e2022_r2024 Fatec_Praia Grande v.02.pdf   \n",
       "110           RADE e2022_r2024 Fatec_Zona Sul v.02.pdf   \n",
       "111  RADE e2022_r2024 Fatec_São Caetano do Sul v.02...   \n",
       "112              RADE e2022_r2024 Fatec_Cotia v.02.pdf   \n",
       "\n",
       "                                             File Path  \\\n",
       "0    cl_st1_ph1_fernanda_folders\\cpa\\22-23\\r06\\u005...   \n",
       "1    cl_st1_ph1_fernanda_folders\\cpa\\22-23\\r06\\u113...   \n",
       "2    cl_st1_ph1_fernanda_folders\\cpa\\22-23\\r06\\u126...   \n",
       "3    cl_st1_ph1_fernanda_folders\\cpa\\22-23\\r06\\u129...   \n",
       "4    cl_st1_ph1_fernanda_folders\\cpa\\22-23\\r06\\u137...   \n",
       "..                                                 ...   \n",
       "108  cl_st1_ph1_fernanda_folders\\raa\\24\\r06\\u270\\PP...   \n",
       "109  cl_st1_ph1_fernanda_folders\\rade\\23-24\\r06\\u12...   \n",
       "110  cl_st1_ph1_fernanda_folders\\rade\\23-24\\r06\\u13...   \n",
       "111  cl_st1_ph1_fernanda_folders\\rade\\23-24\\r06\\u16...   \n",
       "112  cl_st1_ph1_fernanda_folders\\rade\\23-24\\r06\\u27...   \n",
       "\n",
       "                  Root Directory Document Type   Year Branch  Unit  \\\n",
       "0    cl_st1_ph1_fernanda_folders           cpa  22-23    r06  u005   \n",
       "1    cl_st1_ph1_fernanda_folders           cpa  22-23    r06  u113   \n",
       "2    cl_st1_ph1_fernanda_folders           cpa  22-23    r06  u126   \n",
       "3    cl_st1_ph1_fernanda_folders           cpa  22-23    r06  u129   \n",
       "4    cl_st1_ph1_fernanda_folders           cpa  22-23    r06  u137   \n",
       "..                           ...           ...    ...    ...   ...   \n",
       "108  cl_st1_ph1_fernanda_folders           raa     24    r06  u270   \n",
       "109  cl_st1_ph1_fernanda_folders          rade  23-24    r06  u129   \n",
       "110  cl_st1_ph1_fernanda_folders          rade  23-24    r06  u137   \n",
       "111  cl_st1_ph1_fernanda_folders          rade  23-24    r06  u168   \n",
       "112  cl_st1_ph1_fernanda_folders          rade  23-24    r06  u270   \n",
       "\n",
       "                                          Scraped Text  \n",
       "0     \\n \\n \\n \\n \\n \\n \\n \\n \\n \\n \\n \\n \\n \\n \\n ...  \n",
       "1                          1 \\n____________________...  \n",
       "2    1 \\n \\n \\n \\n \\n \\n \\n \\n \\n \\n \\n \\n \\n \\n \\n...  \n",
       "3      \\n_ \\nAdministração Central \\nUnidade do Ens...  \n",
       "4     \\n___________________________________________...  \n",
       "..                                                 ...  \n",
       "108   \\n  \\n \\nAdministração Central - Unidade do E...  \n",
       "109  1 \\n \\n \\n \\n \\n \\n \\n \\n \\n \\n \\nDireção da ...  \n",
       "110  1 \\n \\n \\n \\n \\n \\n \\n \\n \\n \\n \\nDireção da ...  \n",
       "111  1 \\n \\n \\n \\n \\n \\n \\n \\n \\n \\n \\nDireção da ...  \n",
       "112  1 \\n \\n \\n \\n \\n \\n \\n \\n \\n \\n \\nDireção da ...  \n",
       "\n",
       "[113 rows x 8 columns]"
      ]
     },
     "execution_count": 7,
     "metadata": {},
     "output_type": "execute_result"
    }
   ],
   "source": [
    "df"
   ]
  },
  {
   "cell_type": "markdown",
   "id": "7432589f-4eab-4ea0-a1d8-6c4a26f7098b",
   "metadata": {},
   "source": [
    "## Create the column `Text ID`"
   ]
  },
  {
   "cell_type": "code",
   "execution_count": 8,
   "id": "cd9f732a-d963-43eb-b1f3-86a64c3f4610",
   "metadata": {
    "ExecuteTime": {
     "end_time": "2025-07-19T15:55:35.409168Z",
     "start_time": "2025-07-19T15:55:35.402014Z"
    }
   },
   "outputs": [],
   "source": [
    "df['Text ID'] = 't' + df.index.astype(str).str.zfill(6)"
   ]
  },
  {
   "cell_type": "code",
   "execution_count": 9,
   "id": "b5918573-c673-42ea-95ed-c39c138b008a",
   "metadata": {
    "ExecuteTime": {
     "end_time": "2025-07-19T15:55:38.885048Z",
     "start_time": "2025-07-19T15:55:38.876778Z"
    }
   },
   "outputs": [
    {
     "data": {
      "text/plain": [
       "File              object\n",
       "File Path         object\n",
       "Root Directory    object\n",
       "Document Type     object\n",
       "Year              object\n",
       "Branch            object\n",
       "Unit              object\n",
       "Scraped Text      object\n",
       "Text ID           object\n",
       "dtype: object"
      ]
     },
     "execution_count": 9,
     "metadata": {},
     "output_type": "execute_result"
    }
   ],
   "source": [
    "df.dtypes"
   ]
  },
  {
   "cell_type": "markdown",
   "id": "d04b1190-1cb8-47a0-96d9-cb7a89656443",
   "metadata": {},
   "source": [
    "## Export to a file"
   ]
  },
  {
   "cell_type": "code",
   "execution_count": 10,
   "id": "323d737d-d0d9-44f1-b5d1-936195415067",
   "metadata": {
    "ExecuteTime": {
     "end_time": "2025-07-19T15:55:42.370354Z",
     "start_time": "2025-07-19T15:55:42.245881Z"
    }
   },
   "outputs": [],
   "source": [
    "df[['Root Directory', 'Document Type', 'Year', 'Branch', 'Unit', 'File', 'File Path', 'Text ID', 'Scraped Text']].to_json(f\"{output_directory}/cl_st1_ph1_fernanda_scraped.jsonl\", orient='records', lines=True)"
   ]
  },
  {
   "cell_type": "markdown",
   "id": "957d29bd-5cc3-4b4d-b24b-05c9813f0189",
   "metadata": {},
   "source": [
    "## Import data into a DataFrame"
   ]
  },
  {
   "cell_type": "code",
   "id": "bc4132f4-1ead-4638-bcbd-000bffd61aba",
   "metadata": {
    "ExecuteTime": {
     "end_time": "2025-09-04T13:50:33.447105Z",
     "start_time": "2025-09-04T13:50:33.346377Z"
    }
   },
   "source": [
    "df = pd.read_json(f'{output_directory}/cl_st1_ph1_fernanda_scraped.jsonl', lines=True)"
   ],
   "outputs": [],
   "execution_count": 4
  },
  {
   "cell_type": "code",
   "id": "b78fb01c-0e05-4907-8b82-c3bd2eb5c56a",
   "metadata": {
    "ExecuteTime": {
     "end_time": "2025-09-04T13:50:36.140787Z",
     "start_time": "2025-09-04T13:50:36.132303Z"
    }
   },
   "source": [
    "df.dtypes"
   ],
   "outputs": [
    {
     "data": {
      "text/plain": [
       "Root Directory    object\n",
       "Document Type     object\n",
       "Year              object\n",
       "Branch            object\n",
       "Unit              object\n",
       "File              object\n",
       "File Path         object\n",
       "Text ID           object\n",
       "Scraped Text      object\n",
       "dtype: object"
      ]
     },
     "execution_count": 5,
     "metadata": {},
     "output_type": "execute_result"
    }
   ],
   "execution_count": 5
  },
  {
   "cell_type": "code",
   "id": "4887d561-4ecd-400d-8738-26b5b0938641",
   "metadata": {
    "ExecuteTime": {
     "end_time": "2025-09-04T13:50:48.830724Z",
     "start_time": "2025-09-04T13:50:48.809805Z"
    }
   },
   "source": [
    "df"
   ],
   "outputs": [
    {
     "data": {
      "text/plain": [
       "                  Root Directory Document Type   Year Branch  Unit  \\\n",
       "0    cl_st1_ph1_fernanda_folders           cpa  22-23    r06  u005   \n",
       "1    cl_st1_ph1_fernanda_folders           cpa  22-23    r06  u113   \n",
       "2    cl_st1_ph1_fernanda_folders           cpa  22-23    r06  u126   \n",
       "3    cl_st1_ph1_fernanda_folders           cpa  22-23    r06  u129   \n",
       "4    cl_st1_ph1_fernanda_folders           cpa  22-23    r06  u137   \n",
       "..                           ...           ...    ...    ...   ...   \n",
       "108  cl_st1_ph1_fernanda_folders           raa     24    r06  u270   \n",
       "109  cl_st1_ph1_fernanda_folders          rade  23-24    r06  u129   \n",
       "110  cl_st1_ph1_fernanda_folders          rade  23-24    r06  u137   \n",
       "111  cl_st1_ph1_fernanda_folders          rade  23-24    r06  u168   \n",
       "112  cl_st1_ph1_fernanda_folders          rade  23-24    r06  u270   \n",
       "\n",
       "                                                  File  \\\n",
       "0                  CPA 2023 Fatec Baixada Santista.pdf   \n",
       "1                              CPA 2023 Fatec Mauá.pdf   \n",
       "2             CPA 2023 Fatec São Bernardo do Campo.pdf   \n",
       "3                      CPA 2023 Fatec Praia Grande.pdf   \n",
       "4                          CPA 2023 Fatec Zona Sul.pdf   \n",
       "..                                                 ...   \n",
       "108                        PP_RAA 2024 Fatec_Cotia.pdf   \n",
       "109       RADE e2022_r2024 Fatec_Praia Grande v.02.pdf   \n",
       "110           RADE e2022_r2024 Fatec_Zona Sul v.02.pdf   \n",
       "111  RADE e2022_r2024 Fatec_São Caetano do Sul v.02...   \n",
       "112              RADE e2022_r2024 Fatec_Cotia v.02.pdf   \n",
       "\n",
       "                                             File Path  Text ID  \\\n",
       "0    cl_st1_ph1_fernanda_folders\\cpa\\22-23\\r06\\u005...  t000000   \n",
       "1    cl_st1_ph1_fernanda_folders\\cpa\\22-23\\r06\\u113...  t000001   \n",
       "2    cl_st1_ph1_fernanda_folders\\cpa\\22-23\\r06\\u126...  t000002   \n",
       "3    cl_st1_ph1_fernanda_folders\\cpa\\22-23\\r06\\u129...  t000003   \n",
       "4    cl_st1_ph1_fernanda_folders\\cpa\\22-23\\r06\\u137...  t000004   \n",
       "..                                                 ...      ...   \n",
       "108  cl_st1_ph1_fernanda_folders\\raa\\24\\r06\\u270\\PP...  t000108   \n",
       "109  cl_st1_ph1_fernanda_folders\\rade\\23-24\\r06\\u12...  t000109   \n",
       "110  cl_st1_ph1_fernanda_folders\\rade\\23-24\\r06\\u13...  t000110   \n",
       "111  cl_st1_ph1_fernanda_folders\\rade\\23-24\\r06\\u16...  t000111   \n",
       "112  cl_st1_ph1_fernanda_folders\\rade\\23-24\\r06\\u27...  t000112   \n",
       "\n",
       "                                          Scraped Text  \n",
       "0     \\n \\n \\n \\n \\n \\n \\n \\n \\n \\n \\n \\n \\n \\n \\n ...  \n",
       "1                          1 \\n____________________...  \n",
       "2    1 \\n \\n \\n \\n \\n \\n \\n \\n \\n \\n \\n \\n \\n \\n \\n...  \n",
       "3      \\n_ \\nAdministração Central \\nUnidade do Ens...  \n",
       "4     \\n___________________________________________...  \n",
       "..                                                 ...  \n",
       "108   \\n  \\n \\nAdministração Central - Unidade do E...  \n",
       "109  1 \\n \\n \\n \\n \\n \\n \\n \\n \\n \\n \\nDireção da ...  \n",
       "110  1 \\n \\n \\n \\n \\n \\n \\n \\n \\n \\n \\nDireção da ...  \n",
       "111  1 \\n \\n \\n \\n \\n \\n \\n \\n \\n \\n \\nDireção da ...  \n",
       "112  1 \\n \\n \\n \\n \\n \\n \\n \\n \\n \\n \\nDireção da ...  \n",
       "\n",
       "[113 rows x 9 columns]"
      ],
      "text/html": [
       "<div>\n",
       "<style scoped>\n",
       "    .dataframe tbody tr th:only-of-type {\n",
       "        vertical-align: middle;\n",
       "    }\n",
       "\n",
       "    .dataframe tbody tr th {\n",
       "        vertical-align: top;\n",
       "    }\n",
       "\n",
       "    .dataframe thead th {\n",
       "        text-align: right;\n",
       "    }\n",
       "</style>\n",
       "<table border=\"1\" class=\"dataframe\">\n",
       "  <thead>\n",
       "    <tr style=\"text-align: right;\">\n",
       "      <th></th>\n",
       "      <th>Root Directory</th>\n",
       "      <th>Document Type</th>\n",
       "      <th>Year</th>\n",
       "      <th>Branch</th>\n",
       "      <th>Unit</th>\n",
       "      <th>File</th>\n",
       "      <th>File Path</th>\n",
       "      <th>Text ID</th>\n",
       "      <th>Scraped Text</th>\n",
       "    </tr>\n",
       "  </thead>\n",
       "  <tbody>\n",
       "    <tr>\n",
       "      <th>0</th>\n",
       "      <td>cl_st1_ph1_fernanda_folders</td>\n",
       "      <td>cpa</td>\n",
       "      <td>22-23</td>\n",
       "      <td>r06</td>\n",
       "      <td>u005</td>\n",
       "      <td>CPA 2023 Fatec Baixada Santista.pdf</td>\n",
       "      <td>cl_st1_ph1_fernanda_folders\\cpa\\22-23\\r06\\u005...</td>\n",
       "      <td>t000000</td>\n",
       "      <td>\\n \\n \\n \\n \\n \\n \\n \\n \\n \\n \\n \\n \\n \\n \\n ...</td>\n",
       "    </tr>\n",
       "    <tr>\n",
       "      <th>1</th>\n",
       "      <td>cl_st1_ph1_fernanda_folders</td>\n",
       "      <td>cpa</td>\n",
       "      <td>22-23</td>\n",
       "      <td>r06</td>\n",
       "      <td>u113</td>\n",
       "      <td>CPA 2023 Fatec Mauá.pdf</td>\n",
       "      <td>cl_st1_ph1_fernanda_folders\\cpa\\22-23\\r06\\u113...</td>\n",
       "      <td>t000001</td>\n",
       "      <td>1 \\n____________________...</td>\n",
       "    </tr>\n",
       "    <tr>\n",
       "      <th>2</th>\n",
       "      <td>cl_st1_ph1_fernanda_folders</td>\n",
       "      <td>cpa</td>\n",
       "      <td>22-23</td>\n",
       "      <td>r06</td>\n",
       "      <td>u126</td>\n",
       "      <td>CPA 2023 Fatec São Bernardo do Campo.pdf</td>\n",
       "      <td>cl_st1_ph1_fernanda_folders\\cpa\\22-23\\r06\\u126...</td>\n",
       "      <td>t000002</td>\n",
       "      <td>1 \\n \\n \\n \\n \\n \\n \\n \\n \\n \\n \\n \\n \\n \\n \\n...</td>\n",
       "    </tr>\n",
       "    <tr>\n",
       "      <th>3</th>\n",
       "      <td>cl_st1_ph1_fernanda_folders</td>\n",
       "      <td>cpa</td>\n",
       "      <td>22-23</td>\n",
       "      <td>r06</td>\n",
       "      <td>u129</td>\n",
       "      <td>CPA 2023 Fatec Praia Grande.pdf</td>\n",
       "      <td>cl_st1_ph1_fernanda_folders\\cpa\\22-23\\r06\\u129...</td>\n",
       "      <td>t000003</td>\n",
       "      <td>\\n_ \\nAdministração Central \\nUnidade do Ens...</td>\n",
       "    </tr>\n",
       "    <tr>\n",
       "      <th>4</th>\n",
       "      <td>cl_st1_ph1_fernanda_folders</td>\n",
       "      <td>cpa</td>\n",
       "      <td>22-23</td>\n",
       "      <td>r06</td>\n",
       "      <td>u137</td>\n",
       "      <td>CPA 2023 Fatec Zona Sul.pdf</td>\n",
       "      <td>cl_st1_ph1_fernanda_folders\\cpa\\22-23\\r06\\u137...</td>\n",
       "      <td>t000004</td>\n",
       "      <td>\\n___________________________________________...</td>\n",
       "    </tr>\n",
       "    <tr>\n",
       "      <th>...</th>\n",
       "      <td>...</td>\n",
       "      <td>...</td>\n",
       "      <td>...</td>\n",
       "      <td>...</td>\n",
       "      <td>...</td>\n",
       "      <td>...</td>\n",
       "      <td>...</td>\n",
       "      <td>...</td>\n",
       "      <td>...</td>\n",
       "    </tr>\n",
       "    <tr>\n",
       "      <th>108</th>\n",
       "      <td>cl_st1_ph1_fernanda_folders</td>\n",
       "      <td>raa</td>\n",
       "      <td>24</td>\n",
       "      <td>r06</td>\n",
       "      <td>u270</td>\n",
       "      <td>PP_RAA 2024 Fatec_Cotia.pdf</td>\n",
       "      <td>cl_st1_ph1_fernanda_folders\\raa\\24\\r06\\u270\\PP...</td>\n",
       "      <td>t000108</td>\n",
       "      <td>\\n  \\n \\nAdministração Central - Unidade do E...</td>\n",
       "    </tr>\n",
       "    <tr>\n",
       "      <th>109</th>\n",
       "      <td>cl_st1_ph1_fernanda_folders</td>\n",
       "      <td>rade</td>\n",
       "      <td>23-24</td>\n",
       "      <td>r06</td>\n",
       "      <td>u129</td>\n",
       "      <td>RADE e2022_r2024 Fatec_Praia Grande v.02.pdf</td>\n",
       "      <td>cl_st1_ph1_fernanda_folders\\rade\\23-24\\r06\\u12...</td>\n",
       "      <td>t000109</td>\n",
       "      <td>1 \\n \\n \\n \\n \\n \\n \\n \\n \\n \\n \\nDireção da ...</td>\n",
       "    </tr>\n",
       "    <tr>\n",
       "      <th>110</th>\n",
       "      <td>cl_st1_ph1_fernanda_folders</td>\n",
       "      <td>rade</td>\n",
       "      <td>23-24</td>\n",
       "      <td>r06</td>\n",
       "      <td>u137</td>\n",
       "      <td>RADE e2022_r2024 Fatec_Zona Sul v.02.pdf</td>\n",
       "      <td>cl_st1_ph1_fernanda_folders\\rade\\23-24\\r06\\u13...</td>\n",
       "      <td>t000110</td>\n",
       "      <td>1 \\n \\n \\n \\n \\n \\n \\n \\n \\n \\n \\nDireção da ...</td>\n",
       "    </tr>\n",
       "    <tr>\n",
       "      <th>111</th>\n",
       "      <td>cl_st1_ph1_fernanda_folders</td>\n",
       "      <td>rade</td>\n",
       "      <td>23-24</td>\n",
       "      <td>r06</td>\n",
       "      <td>u168</td>\n",
       "      <td>RADE e2022_r2024 Fatec_São Caetano do Sul v.02...</td>\n",
       "      <td>cl_st1_ph1_fernanda_folders\\rade\\23-24\\r06\\u16...</td>\n",
       "      <td>t000111</td>\n",
       "      <td>1 \\n \\n \\n \\n \\n \\n \\n \\n \\n \\n \\nDireção da ...</td>\n",
       "    </tr>\n",
       "    <tr>\n",
       "      <th>112</th>\n",
       "      <td>cl_st1_ph1_fernanda_folders</td>\n",
       "      <td>rade</td>\n",
       "      <td>23-24</td>\n",
       "      <td>r06</td>\n",
       "      <td>u270</td>\n",
       "      <td>RADE e2022_r2024 Fatec_Cotia v.02.pdf</td>\n",
       "      <td>cl_st1_ph1_fernanda_folders\\rade\\23-24\\r06\\u27...</td>\n",
       "      <td>t000112</td>\n",
       "      <td>1 \\n \\n \\n \\n \\n \\n \\n \\n \\n \\n \\nDireção da ...</td>\n",
       "    </tr>\n",
       "  </tbody>\n",
       "</table>\n",
       "<p>113 rows × 9 columns</p>\n",
       "</div>"
      ]
     },
     "execution_count": 6,
     "metadata": {},
     "output_type": "execute_result"
    }
   ],
   "execution_count": 6
  },
  {
   "cell_type": "markdown",
   "id": "de4db21f-6cf9-4467-89f0-5821d0714a53",
   "metadata": {},
   "source": [
    "## Inspect a few rows"
   ]
  },
  {
   "cell_type": "code",
   "id": "f8b1d794bb9630f0",
   "metadata": {
    "ExecuteTime": {
     "end_time": "2025-09-04T13:50:56.599696Z",
     "start_time": "2025-09-04T13:50:56.594109Z"
    }
   },
   "source": [
    "df.at[21, 'File']"
   ],
   "outputs": [
    {
     "data": {
      "text/plain": [
       "'CPA 2025 Fatec Mauá.pdf'"
      ]
     },
     "execution_count": 7,
     "metadata": {},
     "output_type": "execute_result"
    }
   ],
   "execution_count": 7
  },
  {
   "cell_type": "code",
   "id": "bfc10e83475ba317",
   "metadata": {
    "ExecuteTime": {
     "end_time": "2025-09-04T13:50:58.351398Z",
     "start_time": "2025-09-04T13:50:58.343920Z"
    }
   },
   "source": [
    "df.at[21, 'File Path']"
   ],
   "outputs": [
    {
     "data": {
      "text/plain": [
       "'cl_st1_ph1_fernanda_folders\\\\cpa\\\\24-25\\\\r06\\\\u113\\\\CPA 2025 Fatec Mauá.pdf'"
      ]
     },
     "execution_count": 8,
     "metadata": {},
     "output_type": "execute_result"
    }
   ],
   "execution_count": 8
  },
  {
   "cell_type": "code",
   "id": "d9b5b5fff965637a",
   "metadata": {
    "ExecuteTime": {
     "end_time": "2025-09-04T13:51:00.682434Z",
     "start_time": "2025-09-04T13:51:00.678008Z"
    }
   },
   "source": [
    "df.at[21, 'Text ID']"
   ],
   "outputs": [
    {
     "data": {
      "text/plain": [
       "'t000021'"
      ]
     },
     "execution_count": 9,
     "metadata": {},
     "output_type": "execute_result"
    }
   ],
   "execution_count": 9
  },
  {
   "cell_type": "code",
   "id": "b7cf28072bb86152",
   "metadata": {
    "ExecuteTime": {
     "end_time": "2025-09-04T13:51:01.816119Z",
     "start_time": "2025-09-04T13:51:01.810663Z"
    }
   },
   "source": [
    "df.at[21, 'Scraped Text']"
   ],
   "outputs": [
    {
     "data": {
      "text/plain": [
       "''"
      ]
     },
     "execution_count": 10,
     "metadata": {},
     "output_type": "execute_result"
    }
   ],
   "execution_count": 10
  },
  {
   "cell_type": "markdown",
   "id": "2d44efd1545a41f",
   "metadata": {},
   "source": [
    "## Find texts that are empty"
   ]
  },
  {
   "cell_type": "markdown",
   "id": "b724d8cd932b517a",
   "metadata": {},
   "source": [
    "These are documents whose text could not be captured because they are probably image-based PDF documents. **They should be removed**."
   ]
  },
  {
   "cell_type": "code",
   "id": "23805ebce7cbd907",
   "metadata": {
    "ExecuteTime": {
     "end_time": "2025-09-04T13:51:06.214748Z",
     "start_time": "2025-09-04T13:51:06.208814Z"
    }
   },
   "source": [
    "# Find rows where the specified column has empty strings\n",
    "mask = df['Scraped Text'].str.len() == 0\n",
    "\n",
    "# Get the corresponding 'Text ID' values \n",
    "text_ids_with_missing_text = df[mask]['Text ID']\n",
    "\n",
    "text_ids_with_missing_text"
   ],
   "outputs": [
    {
     "data": {
      "text/plain": [
       "21    t000021\n",
       "Name: Text ID, dtype: object"
      ]
     },
     "execution_count": 11,
     "metadata": {},
     "output_type": "execute_result"
    }
   ],
   "execution_count": 11
  },
  {
   "cell_type": "markdown",
   "id": "464898a8c5e30202",
   "metadata": {},
   "source": [
    "## Copy each original PDF file to ease the text review process"
   ]
  },
  {
   "cell_type": "code",
   "execution_count": 19,
   "id": "d71c23a1-bf2a-4ed1-a4ff-ad148e6ba35a",
   "metadata": {
    "ExecuteTime": {
     "end_time": "2025-07-19T15:56:17.778647Z",
     "start_time": "2025-07-19T15:56:17.365279Z"
    }
   },
   "outputs": [],
   "source": [
    "for index, row in df.iterrows():\n",
    "    source_path = row['File Path']\n",
    "    new_name = row['Text ID'] + '.pdf'\n",
    "    destination_path = os.path.join(output_directory, new_name)\n",
    "    try:\n",
    "        shutil.copy(source_path, destination_path)\n",
    "        logging.info(f\"Copied: {source_path} to {destination_path}\")\n",
    "    except Exception as e:\n",
    "        logging.error(f\"Error copying {source_path}: {str(e)}\")"
   ]
  },
  {
   "cell_type": "markdown",
   "id": "277799bf-4bb4-4a00-b60c-87e82329dc46",
   "metadata": {},
   "source": [
    "## Export each scraped text to individual files for review"
   ]
  },
  {
   "cell_type": "markdown",
   "id": "9e54f292-30e8-48cc-ac25-b083263927ef",
   "metadata": {},
   "source": [
    "This cell has been set to 'raw' in order to avoid unintended overwrite of the the reviewed texts."
   ]
  },
  {
   "cell_type": "raw",
   "id": "060892d6-3b8a-4a7d-a4eb-98c3cfd9283c",
   "metadata": {
    "ExecuteTime": {
     "end_time": "2025-07-19T15:56:22.041293Z",
     "start_time": "2025-07-19T15:56:21.878145Z"
    }
   },
   "source": [
    "for index, row in df.iterrows():\n",
    "    # Constructing the file name based on row data and index\n",
    "    file_name = f\"{output_directory}/{row['Text ID']}.txt\"\n",
    "    \n",
    "    # Writing the 'Scraped Text' content to the file\n",
    "    with open(file_name, 'w', encoding='utf-8') as file:\n",
    "        file.write(row['Scraped Text'])"
   ]
  },
  {
   "cell_type": "markdown",
   "id": "1d788e57-e614-44a2-a9b7-c68513f6b3d8",
   "metadata": {},
   "source": [
    "## Manual inspection and clean up"
   ]
  },
  {
   "cell_type": "markdown",
   "id": "4777e189-7829-4d8a-97b9-0f2e7d030a8c",
   "metadata": {},
   "source": [
    "Inspect each document in TXT format and:\n",
    "\n",
    "- Remove titles and subtitles\n",
    "- Remove headers and footers\n",
    "- Remove elements such as tables, figures, references and appendices\n",
    "- **Separate sets of lines that constitute paragraphs with an empty line**\n",
    "- Indicate sections with the prefix `Section: `. For example: `Section: 1 INTRODUÇÃO`\n",
    "    - Ensure that sections are separated by an **empty line before and after it**\n",
    "    - **Do not modify** the prefix like:\n",
    "        - `Section : 1 INTRODUÇÃO`\n",
    "        - `Section:1 INTRODUÇÃO`\n",
    "        - `Seçion: 1 INTRODUÇÃO`\n",
    "        - `section: 1 INTRODUÇÃO`\n",
    "        - `Section - 1 INTRODUÇÃO`\n",
    "        - `SECTION: 1 INTRODUÇÃO`\n",
    "    - **Do not leave a section empty** like:\n",
    "        - `Section: `"
   ]
  },
  {
   "cell_type": "markdown",
   "id": "aa74c1f17bbb5804",
   "metadata": {},
   "source": [
    "### Example"
   ]
  },
  {
   "cell_type": "markdown",
   "id": "2ba43b28-1ec9-47ee-adfc-b9319e8f2290",
   "metadata": {},
   "source": [
    "```\n",
    "Section: 1 INTRODUÇÃO\n",
    "\n",
    "A Comissão Própria de Avaliação (CPA) da Faculdade de Tecnologia de Cotia\n",
    "foi constituída em março de 2016, e aprovada pelo Colegiado Máximo da Unidade de\n",
    "Ensino em 09/04/2016, conforme previsto pela Portaria CEETEPS-GDS nº 1305, de\n",
    "31 de maio de 2016 e Lei Federal nº 10.861/2004, com representação dos segmentos\n",
    "da comunidade universitária e de representante(s) da sociedade civil organizada.\n",
    "\n",
    "A finalidade dessa comissão é de contribuir com o planejamento, elaboração,\n",
    "coordenação e monitoramento da política de autoavaliação institucional, promovendo,\n",
    "no que couber, a interlocução com os órgãos de regulação, supervisão e avaliação.\n",
    "Esse relatório se refere à CPA da Fatec Cotia que foi formada no início do ano\n",
    "de 2021, cujos membros convidados a participar eram representantes da comunidade\n",
    "acadêmica: docentes, discentes, funcionários e comunidade externa.\n",
    "\n",
    "Section: 2 METODOLOGIA\n",
    "\n",
    "Para contribuir com a organização da Comissão Própria de Avaliação de cada\n",
    "Fatec, o Centro Paula Souza, por meio da Área de Avaliação Institucional (AAI) e da\n",
    "Unidade de Ensino Superior de Graduação (CESU), organizaram a comissão da CPA\n",
    "Central.\n",
    "\n",
    "Assumindo como centro organizativo as atribuições que lhe competem, a\n",
    "saber:\n",
    "\n",
    "I – Contribuir com o planejamento, orientação e monitoramento dos\n",
    "procedimentos da autoavaliação Institucional das FATECs;\n",
    "\n",
    "II – Utilizar os indicadores coletados nas unidades como instrumento de\n",
    "gestão, oferecendo subsídios para cada uma das áreas da administração\n",
    "central tomar as medidas corretivas;\n",
    "\n",
    "Por meio CPA Central cada Fatec e das Diretorias Pedagógicas Regionais\n",
    "recebe todo o suporte necessário para cumprir o que lhe compete a CPA conforme\n",
    "segue:\n",
    "\n",
    "1. contribuir\n",
    "com\n",
    "o\n",
    "planejamento,\n",
    "elaboração,\n",
    "coordenação\n",
    "e\n",
    "monitoramento dos processos de avaliação interna, apresentando o\n",
    "projeto de autoavaliação Institucional que norteará todos os\n",
    "procedimentos de autoavaliação para a CPA Central em consonância\n",
    "com a equipe de Supervisão Regional das FATECs.\n",
    "\n",
    "2. apoiar os processos internos de avaliação;\n",
    "\n",
    "3. sistematizar e prestar informações relativas às políticas de\n",
    "autoavaliação institucional, solicitadas pelos Sistemas Federal e\n",
    "Estadual de Avaliação da Educação Superior, além de atender à\n",
    "demanda interna da Supervisão Regional e da CPA Central do Centro\n",
    "Paula Souza;\n",
    "\n",
    "Section: 3 DESENVOLVIMENTO\n",
    "\n",
    "Considerando os instrumentos da autoavaliação, estruturados a partir das 10 dimensões previstas no\n",
    "art. 3º da Lei nº 10.861 (SINAES), nesta parte do relatório, a CPA deverá apresentar as informações\n",
    "que foram coletadas, a partir da organização de 5 eixos, que articulam as 10 dimensões, conforme\n",
    "disposto na Nota Técnica INEP nº 065, como segue:\n",
    "\n",
    "Nessa seção apresentamos os dados da pesquisa de forma gráfica procuram\n",
    "extrair as questões com respostas mais positivas e mais negativas para evidenciar\n",
    "os pontos fortes e fracos da instituição.\n",
    "\n",
    "\n",
    "\n",
    "Section: 5 CONSIDERAÇÕES FINAIS\n",
    "\n",
    "A Comissão Própria de Avaliação, pelo seu trabalho, visa oferecer subsídios capazes\n",
    "de subsidiar à tomada de decisão e ao planejamento institucional, na busca de\n",
    "contínua melhoria da qualidade do ensino, da pesquisa, da extensão e da gestão.\n",
    "Sendo assim um importante instrumento para a Direção.\n",
    "\n",
    "Dentre as principais ações advindas desse processo, podemos salientar:\n",
    "\n",
    "• a confiança que professores, funcionários e alunos têm na direção, nos\n",
    "coordenadores e\n",
    "nos\n",
    "órgãos\n",
    "colegiados\n",
    "da\n",
    "instituição; às\n",
    "vezes\n",
    "desconhecendo a missão da Instituição.\n",
    "\n",
    "• o ensino remoto forçado mudou a forma do aluno estudar e do professor\n",
    "lecionar. O retorno presencial foi planejado visando o acolhimento;\n",
    "\n",
    "Os resultados apresentados contemplam as dez dimensões auto avaliativas do\n",
    "SINAES e foram analisados e discutidos por todos os membros da comunidade\n",
    "institucional: direção, coordenações de cursos, setores administrativos, gestores,\n",
    "professores e alunos.\n",
    "\n",
    "Os dados coletados, as análises e propostas foram amplamente divulgadas e serão\n",
    "objeto de comparação na próxima avaliação, para elucidar os avanços alcançados,\n",
    "reforçando o quanto a avaliação contribui para a gestão dos resultados.\n",
    "\n",
    "```"
   ]
  },
  {
   "cell_type": "markdown",
   "id": "19f79b2b43c98339",
   "metadata": {},
   "source": [
    "## Merge lines into paragraphs"
   ]
  },
  {
   "cell_type": "code",
   "id": "95bf12e35bace106",
   "metadata": {
    "ExecuteTime": {
     "end_time": "2025-09-04T13:51:58.892704Z",
     "start_time": "2025-09-04T13:51:58.589049Z"
    }
   },
   "source": [
    "# Defining a function to tokenise the paragraphs of each article\n",
    "def paragraph_tokenise(text):\n",
    "    lines = text.split('\\n')\n",
    "    paragraphs = []\n",
    "    paragraph = ''\n",
    "    \n",
    "    for line in lines:\n",
    "        if line.strip():\n",
    "            cleaned_line = ' '.join(line.split())  # Remove extra spaces within the line\n",
    "            paragraph += ' ' + cleaned_line.strip()  # Join subsequent lines into a paragraph\n",
    "        else:\n",
    "            paragraphs.append(paragraph.strip())  # If there is an empty line, the paragraph consolidated so far is added to the list of paragraphs\n",
    "            paragraph = ''  # The paragraph variable is cleared out\n",
    "    \n",
    "    if paragraph:\n",
    "        paragraphs.append(paragraph.strip())  # The last paragraph is added to the list of paragraphs\n",
    "    \n",
    "    tokenised_paragraphs = '\\n'.join(paragraphs)  # The list of paragraphs is compiled into a text with each paragraph as a separate line\n",
    "    \n",
    "    return tokenised_paragraphs\n",
    "\n",
    "# Defining a function to read the content of a TXT file\n",
    "def read_txt_file(file_path):\n",
    "    try:\n",
    "        with open(file_path, 'r', encoding='utf-8') as file:\n",
    "            return file.read()\n",
    "    except Exception as e:\n",
    "        logging.error(f\"Error reading file {file_path}: {e}\")\n",
    "        return None\n",
    "\n",
    "# Defining a function to save the paragraph-tokenised articles into TXT files\n",
    "def save_paragraph_tokenised_file(output_text_content, output_file):\n",
    "    try:\n",
    "        with open(output_file, 'w', encoding='utf-8') as output_txt_file:\n",
    "            output_txt_file.write(output_text_content)\n",
    "        logging.info(f\"Successfully saved tokenised file: {output_file}\")\n",
    "    except Exception as e:\n",
    "        logging.error(f\"Error saving file {output_file}: {e}\")\n",
    "\n",
    "# Iterating through each row in the DataFrame and add the text content\n",
    "for index, row in tqdm(df.iterrows(), total=df.shape[0], desc='Processing files'):\n",
    "    text_id = row['Text ID']\n",
    "    txt_file_path = os.path.join(output_directory, f\"{text_id}.txt\")\n",
    "    if os.path.exists(txt_file_path):\n",
    "        text_content = read_txt_file(txt_file_path)\n",
    "        if text_content:\n",
    "            paragraph_tokenised_text_content = paragraph_tokenise(text_content)\n",
    "            save_paragraph_tokenised_file(paragraph_tokenised_text_content, f\"{output_directory}/{text_id}_tokenised.txt\")\n",
    "    else:\n",
    "        logging.warning(f\"File not found: {txt_file_path}\")"
   ],
   "outputs": [
    {
     "name": "stderr",
     "output_type": "stream",
     "text": [
      "Processing files: 100%|██████████| 113/113 [00:00<00:00, 432.22it/s]\n"
     ]
    }
   ],
   "execution_count": 12
  },
  {
   "cell_type": "markdown",
   "id": "82e71e0c847e941e",
   "metadata": {},
   "source": [
    "## Break down the texts into sections and paragraphs"
   ]
  },
  {
   "cell_type": "code",
   "id": "c94f258c8a4dc68d",
   "metadata": {
    "ExecuteTime": {
     "end_time": "2025-09-04T13:52:12.466803Z",
     "start_time": "2025-09-04T13:52:12.377769Z"
    }
   },
   "source": [
    "# Prepare to collect rows\n",
    "data = []\n",
    "\n",
    "# Loop through each 'Text ID' in df\n",
    "for _, row in df.iterrows():\n",
    "    text_id = row['Text ID']\n",
    "\n",
    "    paragraph_count = 0\n",
    "    section = None\n",
    "    file_path = os.path.join(output_directory, f\"{text_id}_tokenised.txt\")\n",
    "\n",
    "    if not os.path.isfile(file_path):\n",
    "        print(f\"Missing file: {file_path}\")\n",
    "        continue\n",
    "\n",
    "    with open(file_path, 'r', encoding='utf-8') as file:\n",
    "        for line in file:\n",
    "            line = ' '.join(line.split()).strip()\n",
    "\n",
    "            if line.startswith('Section:'):\n",
    "                section_name = line.partition(':')[2].strip()\n",
    "                # If a section line is blank or only has the colon, we gracefully assign the fallback name 'Undefined Section'\n",
    "                section = section_name if section_name else 'Undefined Section'\n",
    "                paragraph_count = 0  # Resetting paragraph count for new section\n",
    "\n",
    "            elif line:\n",
    "                paragraph_count += 1\n",
    "                data.append({\n",
    "                    'Text ID': text_id,\n",
    "                    'Section': section,\n",
    "                    'Paragraph': f\"Paragraph {paragraph_count}\",\n",
    "                    'Text Paragraph': line\n",
    "                })\n",
    "\n",
    "# Create final DataFrame\n",
    "df_section_paragraph = pd.DataFrame(data)"
   ],
   "outputs": [
    {
     "name": "stdout",
     "output_type": "stream",
     "text": [
      "Missing file: cl_st1_ph1_output/t000021_tokenised.txt\n",
      "Missing file: cl_st1_ph1_output/t000106_tokenised.txt\n"
     ]
    }
   ],
   "execution_count": 13
  },
  {
   "cell_type": "code",
   "id": "5d6a9cd0-17b6-441a-b90e-60a16db72f3e",
   "metadata": {
    "ExecuteTime": {
     "end_time": "2025-09-04T13:52:18.838002Z",
     "start_time": "2025-09-04T13:52:18.818385Z"
    }
   },
   "source": [
    "df_section_paragraph"
   ],
   "outputs": [
    {
     "data": {
      "text/plain": [
       "      Text ID                 Section    Paragraph  \\\n",
       "0     t000000            1 INTRODUÇÃO  Paragraph 1   \n",
       "1     t000000            1 INTRODUÇÃO  Paragraph 2   \n",
       "2     t000000        2 SENSIBILIZAÇÃO  Paragraph 1   \n",
       "3     t000000        2 SENSIBILIZAÇÃO  Paragraph 2   \n",
       "4     t000000        2 SENSIBILIZAÇÃO  Paragraph 3   \n",
       "...       ...                     ...          ...   \n",
       "3554  t000112  4 CONSIDERAÇÕES GERAIS  Paragraph 2   \n",
       "3555  t000112  4 CONSIDERAÇÕES GERAIS  Paragraph 3   \n",
       "3556  t000112  4 CONSIDERAÇÕES GERAIS  Paragraph 4   \n",
       "3557  t000112  4 CONSIDERAÇÕES GERAIS  Paragraph 5   \n",
       "3558  t000112  4 CONSIDERAÇÕES GERAIS  Paragraph 6   \n",
       "\n",
       "                                         Text Paragraph  \n",
       "0     A Fatec Baixada Santista – Rubens Lara, possui...  \n",
       "1     Por meio do desenvolvimento do presente relató...  \n",
       "2     Para a efetivação do cronograma destacam-se al...  \n",
       "3     Cabe ressaltar que as atividades de sensibiliz...  \n",
       "4     Na FATEC Baixada Santista Rubens Lara, as ativ...  \n",
       "...                                                 ...  \n",
       "3554  Recomenda-se a implementação de abordagens Ira...  \n",
       "3555  Outro aspecto examinado foi o perfil emergente...  \n",
       "3556  A iniciativa de preparar os alunos para o Exam...  \n",
       "3557  Além disso, é importante reconhecer o impacto ...  \n",
       "3558  Importante registrar a necessidade de análise ...  \n",
       "\n",
       "[3559 rows x 4 columns]"
      ],
      "text/html": [
       "<div>\n",
       "<style scoped>\n",
       "    .dataframe tbody tr th:only-of-type {\n",
       "        vertical-align: middle;\n",
       "    }\n",
       "\n",
       "    .dataframe tbody tr th {\n",
       "        vertical-align: top;\n",
       "    }\n",
       "\n",
       "    .dataframe thead th {\n",
       "        text-align: right;\n",
       "    }\n",
       "</style>\n",
       "<table border=\"1\" class=\"dataframe\">\n",
       "  <thead>\n",
       "    <tr style=\"text-align: right;\">\n",
       "      <th></th>\n",
       "      <th>Text ID</th>\n",
       "      <th>Section</th>\n",
       "      <th>Paragraph</th>\n",
       "      <th>Text Paragraph</th>\n",
       "    </tr>\n",
       "  </thead>\n",
       "  <tbody>\n",
       "    <tr>\n",
       "      <th>0</th>\n",
       "      <td>t000000</td>\n",
       "      <td>1 INTRODUÇÃO</td>\n",
       "      <td>Paragraph 1</td>\n",
       "      <td>A Fatec Baixada Santista – Rubens Lara, possui...</td>\n",
       "    </tr>\n",
       "    <tr>\n",
       "      <th>1</th>\n",
       "      <td>t000000</td>\n",
       "      <td>1 INTRODUÇÃO</td>\n",
       "      <td>Paragraph 2</td>\n",
       "      <td>Por meio do desenvolvimento do presente relató...</td>\n",
       "    </tr>\n",
       "    <tr>\n",
       "      <th>2</th>\n",
       "      <td>t000000</td>\n",
       "      <td>2 SENSIBILIZAÇÃO</td>\n",
       "      <td>Paragraph 1</td>\n",
       "      <td>Para a efetivação do cronograma destacam-se al...</td>\n",
       "    </tr>\n",
       "    <tr>\n",
       "      <th>3</th>\n",
       "      <td>t000000</td>\n",
       "      <td>2 SENSIBILIZAÇÃO</td>\n",
       "      <td>Paragraph 2</td>\n",
       "      <td>Cabe ressaltar que as atividades de sensibiliz...</td>\n",
       "    </tr>\n",
       "    <tr>\n",
       "      <th>4</th>\n",
       "      <td>t000000</td>\n",
       "      <td>2 SENSIBILIZAÇÃO</td>\n",
       "      <td>Paragraph 3</td>\n",
       "      <td>Na FATEC Baixada Santista Rubens Lara, as ativ...</td>\n",
       "    </tr>\n",
       "    <tr>\n",
       "      <th>...</th>\n",
       "      <td>...</td>\n",
       "      <td>...</td>\n",
       "      <td>...</td>\n",
       "      <td>...</td>\n",
       "    </tr>\n",
       "    <tr>\n",
       "      <th>3554</th>\n",
       "      <td>t000112</td>\n",
       "      <td>4 CONSIDERAÇÕES GERAIS</td>\n",
       "      <td>Paragraph 2</td>\n",
       "      <td>Recomenda-se a implementação de abordagens Ira...</td>\n",
       "    </tr>\n",
       "    <tr>\n",
       "      <th>3555</th>\n",
       "      <td>t000112</td>\n",
       "      <td>4 CONSIDERAÇÕES GERAIS</td>\n",
       "      <td>Paragraph 3</td>\n",
       "      <td>Outro aspecto examinado foi o perfil emergente...</td>\n",
       "    </tr>\n",
       "    <tr>\n",
       "      <th>3556</th>\n",
       "      <td>t000112</td>\n",
       "      <td>4 CONSIDERAÇÕES GERAIS</td>\n",
       "      <td>Paragraph 4</td>\n",
       "      <td>A iniciativa de preparar os alunos para o Exam...</td>\n",
       "    </tr>\n",
       "    <tr>\n",
       "      <th>3557</th>\n",
       "      <td>t000112</td>\n",
       "      <td>4 CONSIDERAÇÕES GERAIS</td>\n",
       "      <td>Paragraph 5</td>\n",
       "      <td>Além disso, é importante reconhecer o impacto ...</td>\n",
       "    </tr>\n",
       "    <tr>\n",
       "      <th>3558</th>\n",
       "      <td>t000112</td>\n",
       "      <td>4 CONSIDERAÇÕES GERAIS</td>\n",
       "      <td>Paragraph 6</td>\n",
       "      <td>Importante registrar a necessidade de análise ...</td>\n",
       "    </tr>\n",
       "  </tbody>\n",
       "</table>\n",
       "<p>3559 rows × 4 columns</p>\n",
       "</div>"
      ]
     },
     "execution_count": 14,
     "metadata": {},
     "output_type": "execute_result"
    }
   ],
   "execution_count": 14
  },
  {
   "cell_type": "markdown",
   "id": "d50b8817029344ac",
   "metadata": {},
   "source": [
    "## Merge `df` into `df_section_paragraph` to obtain `df_fatec`"
   ]
  },
  {
   "cell_type": "code",
   "id": "17dcf38dccdd8417",
   "metadata": {
    "ExecuteTime": {
     "end_time": "2025-09-04T13:53:09.635458Z",
     "start_time": "2025-09-04T13:53:09.631600Z"
    }
   },
   "source": [
    "df.drop(columns=['Scraped Text'], inplace=True)"
   ],
   "outputs": [],
   "execution_count": 15
  },
  {
   "cell_type": "code",
   "id": "bafeed028e5b7231",
   "metadata": {
    "ExecuteTime": {
     "end_time": "2025-09-04T13:53:11.854408Z",
     "start_time": "2025-09-04T13:53:11.848178Z"
    }
   },
   "source": [
    "df_fatec = df.merge(df_section_paragraph, on='Text ID', how='left')"
   ],
   "outputs": [],
   "execution_count": 16
  },
  {
   "cell_type": "code",
   "id": "64680c45ba5b2e5b",
   "metadata": {
    "ExecuteTime": {
     "end_time": "2025-09-04T13:53:13.328189Z",
     "start_time": "2025-09-04T13:53:13.309150Z"
    }
   },
   "source": [
    "df_fatec"
   ],
   "outputs": [
    {
     "data": {
      "text/plain": [
       "                   Root Directory Document Type   Year Branch  Unit  \\\n",
       "0     cl_st1_ph1_fernanda_folders           cpa  22-23    r06  u005   \n",
       "1     cl_st1_ph1_fernanda_folders           cpa  22-23    r06  u005   \n",
       "2     cl_st1_ph1_fernanda_folders           cpa  22-23    r06  u005   \n",
       "3     cl_st1_ph1_fernanda_folders           cpa  22-23    r06  u005   \n",
       "4     cl_st1_ph1_fernanda_folders           cpa  22-23    r06  u005   \n",
       "...                           ...           ...    ...    ...   ...   \n",
       "3556  cl_st1_ph1_fernanda_folders          rade  23-24    r06  u270   \n",
       "3557  cl_st1_ph1_fernanda_folders          rade  23-24    r06  u270   \n",
       "3558  cl_st1_ph1_fernanda_folders          rade  23-24    r06  u270   \n",
       "3559  cl_st1_ph1_fernanda_folders          rade  23-24    r06  u270   \n",
       "3560  cl_st1_ph1_fernanda_folders          rade  23-24    r06  u270   \n",
       "\n",
       "                                       File  \\\n",
       "0       CPA 2023 Fatec Baixada Santista.pdf   \n",
       "1       CPA 2023 Fatec Baixada Santista.pdf   \n",
       "2       CPA 2023 Fatec Baixada Santista.pdf   \n",
       "3       CPA 2023 Fatec Baixada Santista.pdf   \n",
       "4       CPA 2023 Fatec Baixada Santista.pdf   \n",
       "...                                     ...   \n",
       "3556  RADE e2022_r2024 Fatec_Cotia v.02.pdf   \n",
       "3557  RADE e2022_r2024 Fatec_Cotia v.02.pdf   \n",
       "3558  RADE e2022_r2024 Fatec_Cotia v.02.pdf   \n",
       "3559  RADE e2022_r2024 Fatec_Cotia v.02.pdf   \n",
       "3560  RADE e2022_r2024 Fatec_Cotia v.02.pdf   \n",
       "\n",
       "                                              File Path  Text ID  \\\n",
       "0     cl_st1_ph1_fernanda_folders\\cpa\\22-23\\r06\\u005...  t000000   \n",
       "1     cl_st1_ph1_fernanda_folders\\cpa\\22-23\\r06\\u005...  t000000   \n",
       "2     cl_st1_ph1_fernanda_folders\\cpa\\22-23\\r06\\u005...  t000000   \n",
       "3     cl_st1_ph1_fernanda_folders\\cpa\\22-23\\r06\\u005...  t000000   \n",
       "4     cl_st1_ph1_fernanda_folders\\cpa\\22-23\\r06\\u005...  t000000   \n",
       "...                                                 ...      ...   \n",
       "3556  cl_st1_ph1_fernanda_folders\\rade\\23-24\\r06\\u27...  t000112   \n",
       "3557  cl_st1_ph1_fernanda_folders\\rade\\23-24\\r06\\u27...  t000112   \n",
       "3558  cl_st1_ph1_fernanda_folders\\rade\\23-24\\r06\\u27...  t000112   \n",
       "3559  cl_st1_ph1_fernanda_folders\\rade\\23-24\\r06\\u27...  t000112   \n",
       "3560  cl_st1_ph1_fernanda_folders\\rade\\23-24\\r06\\u27...  t000112   \n",
       "\n",
       "                     Section    Paragraph  \\\n",
       "0               1 INTRODUÇÃO  Paragraph 1   \n",
       "1               1 INTRODUÇÃO  Paragraph 2   \n",
       "2           2 SENSIBILIZAÇÃO  Paragraph 1   \n",
       "3           2 SENSIBILIZAÇÃO  Paragraph 2   \n",
       "4           2 SENSIBILIZAÇÃO  Paragraph 3   \n",
       "...                      ...          ...   \n",
       "3556  4 CONSIDERAÇÕES GERAIS  Paragraph 2   \n",
       "3557  4 CONSIDERAÇÕES GERAIS  Paragraph 3   \n",
       "3558  4 CONSIDERAÇÕES GERAIS  Paragraph 4   \n",
       "3559  4 CONSIDERAÇÕES GERAIS  Paragraph 5   \n",
       "3560  4 CONSIDERAÇÕES GERAIS  Paragraph 6   \n",
       "\n",
       "                                         Text Paragraph  \n",
       "0     A Fatec Baixada Santista – Rubens Lara, possui...  \n",
       "1     Por meio do desenvolvimento do presente relató...  \n",
       "2     Para a efetivação do cronograma destacam-se al...  \n",
       "3     Cabe ressaltar que as atividades de sensibiliz...  \n",
       "4     Na FATEC Baixada Santista Rubens Lara, as ativ...  \n",
       "...                                                 ...  \n",
       "3556  Recomenda-se a implementação de abordagens Ira...  \n",
       "3557  Outro aspecto examinado foi o perfil emergente...  \n",
       "3558  A iniciativa de preparar os alunos para o Exam...  \n",
       "3559  Além disso, é importante reconhecer o impacto ...  \n",
       "3560  Importante registrar a necessidade de análise ...  \n",
       "\n",
       "[3561 rows x 11 columns]"
      ],
      "text/html": [
       "<div>\n",
       "<style scoped>\n",
       "    .dataframe tbody tr th:only-of-type {\n",
       "        vertical-align: middle;\n",
       "    }\n",
       "\n",
       "    .dataframe tbody tr th {\n",
       "        vertical-align: top;\n",
       "    }\n",
       "\n",
       "    .dataframe thead th {\n",
       "        text-align: right;\n",
       "    }\n",
       "</style>\n",
       "<table border=\"1\" class=\"dataframe\">\n",
       "  <thead>\n",
       "    <tr style=\"text-align: right;\">\n",
       "      <th></th>\n",
       "      <th>Root Directory</th>\n",
       "      <th>Document Type</th>\n",
       "      <th>Year</th>\n",
       "      <th>Branch</th>\n",
       "      <th>Unit</th>\n",
       "      <th>File</th>\n",
       "      <th>File Path</th>\n",
       "      <th>Text ID</th>\n",
       "      <th>Section</th>\n",
       "      <th>Paragraph</th>\n",
       "      <th>Text Paragraph</th>\n",
       "    </tr>\n",
       "  </thead>\n",
       "  <tbody>\n",
       "    <tr>\n",
       "      <th>0</th>\n",
       "      <td>cl_st1_ph1_fernanda_folders</td>\n",
       "      <td>cpa</td>\n",
       "      <td>22-23</td>\n",
       "      <td>r06</td>\n",
       "      <td>u005</td>\n",
       "      <td>CPA 2023 Fatec Baixada Santista.pdf</td>\n",
       "      <td>cl_st1_ph1_fernanda_folders\\cpa\\22-23\\r06\\u005...</td>\n",
       "      <td>t000000</td>\n",
       "      <td>1 INTRODUÇÃO</td>\n",
       "      <td>Paragraph 1</td>\n",
       "      <td>A Fatec Baixada Santista – Rubens Lara, possui...</td>\n",
       "    </tr>\n",
       "    <tr>\n",
       "      <th>1</th>\n",
       "      <td>cl_st1_ph1_fernanda_folders</td>\n",
       "      <td>cpa</td>\n",
       "      <td>22-23</td>\n",
       "      <td>r06</td>\n",
       "      <td>u005</td>\n",
       "      <td>CPA 2023 Fatec Baixada Santista.pdf</td>\n",
       "      <td>cl_st1_ph1_fernanda_folders\\cpa\\22-23\\r06\\u005...</td>\n",
       "      <td>t000000</td>\n",
       "      <td>1 INTRODUÇÃO</td>\n",
       "      <td>Paragraph 2</td>\n",
       "      <td>Por meio do desenvolvimento do presente relató...</td>\n",
       "    </tr>\n",
       "    <tr>\n",
       "      <th>2</th>\n",
       "      <td>cl_st1_ph1_fernanda_folders</td>\n",
       "      <td>cpa</td>\n",
       "      <td>22-23</td>\n",
       "      <td>r06</td>\n",
       "      <td>u005</td>\n",
       "      <td>CPA 2023 Fatec Baixada Santista.pdf</td>\n",
       "      <td>cl_st1_ph1_fernanda_folders\\cpa\\22-23\\r06\\u005...</td>\n",
       "      <td>t000000</td>\n",
       "      <td>2 SENSIBILIZAÇÃO</td>\n",
       "      <td>Paragraph 1</td>\n",
       "      <td>Para a efetivação do cronograma destacam-se al...</td>\n",
       "    </tr>\n",
       "    <tr>\n",
       "      <th>3</th>\n",
       "      <td>cl_st1_ph1_fernanda_folders</td>\n",
       "      <td>cpa</td>\n",
       "      <td>22-23</td>\n",
       "      <td>r06</td>\n",
       "      <td>u005</td>\n",
       "      <td>CPA 2023 Fatec Baixada Santista.pdf</td>\n",
       "      <td>cl_st1_ph1_fernanda_folders\\cpa\\22-23\\r06\\u005...</td>\n",
       "      <td>t000000</td>\n",
       "      <td>2 SENSIBILIZAÇÃO</td>\n",
       "      <td>Paragraph 2</td>\n",
       "      <td>Cabe ressaltar que as atividades de sensibiliz...</td>\n",
       "    </tr>\n",
       "    <tr>\n",
       "      <th>4</th>\n",
       "      <td>cl_st1_ph1_fernanda_folders</td>\n",
       "      <td>cpa</td>\n",
       "      <td>22-23</td>\n",
       "      <td>r06</td>\n",
       "      <td>u005</td>\n",
       "      <td>CPA 2023 Fatec Baixada Santista.pdf</td>\n",
       "      <td>cl_st1_ph1_fernanda_folders\\cpa\\22-23\\r06\\u005...</td>\n",
       "      <td>t000000</td>\n",
       "      <td>2 SENSIBILIZAÇÃO</td>\n",
       "      <td>Paragraph 3</td>\n",
       "      <td>Na FATEC Baixada Santista Rubens Lara, as ativ...</td>\n",
       "    </tr>\n",
       "    <tr>\n",
       "      <th>...</th>\n",
       "      <td>...</td>\n",
       "      <td>...</td>\n",
       "      <td>...</td>\n",
       "      <td>...</td>\n",
       "      <td>...</td>\n",
       "      <td>...</td>\n",
       "      <td>...</td>\n",
       "      <td>...</td>\n",
       "      <td>...</td>\n",
       "      <td>...</td>\n",
       "      <td>...</td>\n",
       "    </tr>\n",
       "    <tr>\n",
       "      <th>3556</th>\n",
       "      <td>cl_st1_ph1_fernanda_folders</td>\n",
       "      <td>rade</td>\n",
       "      <td>23-24</td>\n",
       "      <td>r06</td>\n",
       "      <td>u270</td>\n",
       "      <td>RADE e2022_r2024 Fatec_Cotia v.02.pdf</td>\n",
       "      <td>cl_st1_ph1_fernanda_folders\\rade\\23-24\\r06\\u27...</td>\n",
       "      <td>t000112</td>\n",
       "      <td>4 CONSIDERAÇÕES GERAIS</td>\n",
       "      <td>Paragraph 2</td>\n",
       "      <td>Recomenda-se a implementação de abordagens Ira...</td>\n",
       "    </tr>\n",
       "    <tr>\n",
       "      <th>3557</th>\n",
       "      <td>cl_st1_ph1_fernanda_folders</td>\n",
       "      <td>rade</td>\n",
       "      <td>23-24</td>\n",
       "      <td>r06</td>\n",
       "      <td>u270</td>\n",
       "      <td>RADE e2022_r2024 Fatec_Cotia v.02.pdf</td>\n",
       "      <td>cl_st1_ph1_fernanda_folders\\rade\\23-24\\r06\\u27...</td>\n",
       "      <td>t000112</td>\n",
       "      <td>4 CONSIDERAÇÕES GERAIS</td>\n",
       "      <td>Paragraph 3</td>\n",
       "      <td>Outro aspecto examinado foi o perfil emergente...</td>\n",
       "    </tr>\n",
       "    <tr>\n",
       "      <th>3558</th>\n",
       "      <td>cl_st1_ph1_fernanda_folders</td>\n",
       "      <td>rade</td>\n",
       "      <td>23-24</td>\n",
       "      <td>r06</td>\n",
       "      <td>u270</td>\n",
       "      <td>RADE e2022_r2024 Fatec_Cotia v.02.pdf</td>\n",
       "      <td>cl_st1_ph1_fernanda_folders\\rade\\23-24\\r06\\u27...</td>\n",
       "      <td>t000112</td>\n",
       "      <td>4 CONSIDERAÇÕES GERAIS</td>\n",
       "      <td>Paragraph 4</td>\n",
       "      <td>A iniciativa de preparar os alunos para o Exam...</td>\n",
       "    </tr>\n",
       "    <tr>\n",
       "      <th>3559</th>\n",
       "      <td>cl_st1_ph1_fernanda_folders</td>\n",
       "      <td>rade</td>\n",
       "      <td>23-24</td>\n",
       "      <td>r06</td>\n",
       "      <td>u270</td>\n",
       "      <td>RADE e2022_r2024 Fatec_Cotia v.02.pdf</td>\n",
       "      <td>cl_st1_ph1_fernanda_folders\\rade\\23-24\\r06\\u27...</td>\n",
       "      <td>t000112</td>\n",
       "      <td>4 CONSIDERAÇÕES GERAIS</td>\n",
       "      <td>Paragraph 5</td>\n",
       "      <td>Além disso, é importante reconhecer o impacto ...</td>\n",
       "    </tr>\n",
       "    <tr>\n",
       "      <th>3560</th>\n",
       "      <td>cl_st1_ph1_fernanda_folders</td>\n",
       "      <td>rade</td>\n",
       "      <td>23-24</td>\n",
       "      <td>r06</td>\n",
       "      <td>u270</td>\n",
       "      <td>RADE e2022_r2024 Fatec_Cotia v.02.pdf</td>\n",
       "      <td>cl_st1_ph1_fernanda_folders\\rade\\23-24\\r06\\u27...</td>\n",
       "      <td>t000112</td>\n",
       "      <td>4 CONSIDERAÇÕES GERAIS</td>\n",
       "      <td>Paragraph 6</td>\n",
       "      <td>Importante registrar a necessidade de análise ...</td>\n",
       "    </tr>\n",
       "  </tbody>\n",
       "</table>\n",
       "<p>3561 rows × 11 columns</p>\n",
       "</div>"
      ]
     },
     "execution_count": 17,
     "metadata": {},
     "output_type": "execute_result"
    }
   ],
   "execution_count": 17
  },
  {
   "cell_type": "markdown",
   "id": "218c2005288798f0",
   "metadata": {},
   "source": [
    "## Inspect a few rows"
   ]
  },
  {
   "cell_type": "code",
   "id": "572f42b3b18c5d94",
   "metadata": {
    "ExecuteTime": {
     "end_time": "2025-09-04T13:53:21.383310Z",
     "start_time": "2025-09-04T13:53:21.379452Z"
    }
   },
   "source": [
    "print(df_fatec.at[17, 'Text Paragraph'])"
   ],
   "outputs": [
    {
     "name": "stdout",
     "output_type": "stream",
     "text": [
      "Para a efetivação do cronograma destaca-se algumas das ações para a realização dos procedimentos de autoavaliação. 1. divulgação no site (pop up), facebook, Instagram e linkedIn da Fatec Mauá através da arte abaixo: 2. envio de e-mail para professores, alunos e pessoal técnico-administrativo. 3. Espaço da aula destinado para preenchimento do Websai; 4. Notificação via Teams aos professores; 5. Mensagens de whatsapp (individual) nos dias finais do processo; 6. Reforço aos alunos por representantes dos alunos da CPA e por representantes de sala; 7. Ingresso dos Coordenadores em aulas para sensibilizar alunos sobre o WebSAI; 8. Envio de mensagem pelos Coordenadores ao e-mail institucional dos alunos.\n"
     ]
    }
   ],
   "execution_count": 18
  },
  {
   "cell_type": "markdown",
   "id": "87ca52e623d781f0",
   "metadata": {},
   "source": [
    "## Export to a file"
   ]
  },
  {
   "cell_type": "code",
   "id": "ec1daed4-53a8-4589-8ad0-983e29d7cdca",
   "metadata": {
    "ExecuteTime": {
     "end_time": "2025-09-04T13:53:52.172773Z",
     "start_time": "2025-09-04T13:53:52.127279Z"
    }
   },
   "source": [
    "df_fatec.to_json(f\"{output_directory}/cl_st1_ph1_fernanda.jsonl\", orient='records', lines=True)"
   ],
   "outputs": [],
   "execution_count": 19
  },
  {
   "cell_type": "code",
   "id": "a475857c-6f84-4fc6-86c3-e4b84a177e11",
   "metadata": {
    "ExecuteTime": {
     "end_time": "2025-09-04T13:53:54.781860Z",
     "start_time": "2025-09-04T13:53:53.747166Z"
    }
   },
   "source": [
    "df_fatec.to_excel(f\"{output_directory}/cl_st1_ph1_fernanda.xlsx\", index=False)"
   ],
   "outputs": [],
   "execution_count": 20
  },
  {
   "cell_type": "code",
   "execution_count": null,
   "id": "5245e9e10430b82f",
   "metadata": {},
   "outputs": [],
   "source": []
  }
 ],
 "metadata": {
  "kernelspec": {
   "display_name": "Python 3 (ipykernel)",
   "language": "python",
   "name": "python3"
  },
  "language_info": {
   "codemirror_mode": {
    "name": "ipython",
    "version": 3
   },
   "file_extension": ".py",
   "mimetype": "text/x-python",
   "name": "python",
   "nbconvert_exporter": "python",
   "pygments_lexer": "ipython3",
   "version": "3.12.11"
  }
 },
 "nbformat": 4,
 "nbformat_minor": 5
}
