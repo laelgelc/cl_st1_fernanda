{
 "cells": [
  {
   "cell_type": "markdown",
   "id": "810d9f10-ec19-4b09-8f90-e983e460b319",
   "metadata": {
    "jp-MarkdownHeadingCollapsed": true
   },
   "source": [
    "<center>\n",
    "<img src=\"https://laelgelcpublic.s3.sa-east-1.amazonaws.com/lael_50_years_narrow_white.png.no_years.400px_96dpi.png\" width=\"300\" alt=\"LAEL 50 years logo\">\n",
    "<h3>APPLIED LINGUISTICS GRADUATE PROGRAMME (LAEL)</h3>\n",
    "</center>\n",
    "<hr>"
   ]
  },
  {
   "cell_type": "markdown",
   "id": "888c2c96-2fc3-4a1a-995b-c388036a2a15",
   "metadata": {},
   "source": [
    "# Corpus Linguistics - Study 1 - Phase 1 - Fernanda"
   ]
  },
  {
   "cell_type": "markdown",
   "id": "60552836-4e24-45fa-a537-692248055ea1",
   "metadata": {},
   "source": [
    "This phase aims at:\n",
    "\n",
    "- Extracting data for a pilot Lexical Multi-Dimensional Analysis."
   ]
  },
  {
   "cell_type": "markdown",
   "id": "a685d8b0-7715-45a6-9489-2d3db9b346c8",
   "metadata": {},
   "source": [
    "## Required Python packages"
   ]
  },
  {
   "cell_type": "markdown",
   "id": "c0e16e73-b1b9-4838-8cce-a29dc300868e",
   "metadata": {},
   "source": [
    "- pandas\n",
    "- PyMuPDF\n",
    "- tqdm"
   ]
  },
  {
   "cell_type": "markdown",
   "id": "c42b4e5d-6c02-46c0-baba-3dde7bf970c4",
   "metadata": {},
   "source": [
    "## Import the required libraries"
   ]
  },
  {
   "cell_type": "code",
   "execution_count": 1,
   "id": "1e9fe8fe-887a-482c-96ee-48e3734d785a",
   "metadata": {
    "ExecuteTime": {
     "end_time": "2025-07-19T15:43:30.204051Z",
     "start_time": "2025-07-19T15:43:27.961519Z"
    }
   },
   "outputs": [],
   "source": [
    "import os\n",
    "import sys\n",
    "import pandas as pd\n",
    "import fitz  # PyMuPDF\n",
    "import logging\n",
    "from tqdm import tqdm\n",
    "import shutil"
   ]
  },
  {
   "cell_type": "markdown",
   "id": "bd97447a-47ea-4fed-a375-32871fbb8664",
   "metadata": {},
   "source": [
    "## Define input variables"
   ]
  },
  {
   "cell_type": "code",
   "execution_count": 2,
   "id": "630ed11f-2ae2-44c7-838a-afb7f4daca31",
   "metadata": {
    "ExecuteTime": {
     "end_time": "2025-07-18T20:32:52.906092Z",
     "start_time": "2025-07-18T20:32:52.902358Z"
    }
   },
   "outputs": [],
   "source": [
    "input_directory = 'cl_st1_ph1_fernanda_folders'\n",
    "output_directory = 'cl_st1_ph1_output'\n",
    "log_filename = f\"{output_directory}/cl_st1_ph1_fernanda.log\""
   ]
  },
  {
   "cell_type": "markdown",
   "id": "ebf55df8-cdc0-4193-9686-f4ebcabffbd3",
   "metadata": {},
   "source": [
    "## Create output directory"
   ]
  },
  {
   "cell_type": "code",
   "execution_count": 3,
   "id": "d29fc720-e7ce-489d-94f0-bfe8d096f5fb",
   "metadata": {
    "ExecuteTime": {
     "end_time": "2025-07-18T20:32:52.933546Z",
     "start_time": "2025-07-18T20:32:52.929225Z"
    }
   },
   "outputs": [
    {
     "name": "stdout",
     "output_type": "stream",
     "text": [
      "Output directory already exists.\n"
     ]
    }
   ],
   "source": [
    "# Check if the output directory already exists. If it does, do nothing. If it doesn't exist, create it.\n",
    "if os.path.exists(output_directory):\n",
    "    print('Output directory already exists.')\n",
    "else:\n",
    "    try:\n",
    "        os.makedirs(output_directory)\n",
    "        print('Output directory successfully created.')\n",
    "    except OSError as e:\n",
    "        print('Failed to create the directory:', e)\n",
    "        sys.exit(1)"
   ]
  },
  {
   "cell_type": "markdown",
   "id": "f5791fd1-977c-495b-8ccb-0ba5d98db796",
   "metadata": {},
   "source": [
    "## Set up logging"
   ]
  },
  {
   "cell_type": "code",
   "execution_count": 4,
   "id": "8c540e3e-2417-4ca0-91c7-cdf3a8f317b1",
   "metadata": {
    "ExecuteTime": {
     "end_time": "2025-07-18T20:32:52.988561Z",
     "start_time": "2025-07-18T20:32:52.985410Z"
    }
   },
   "outputs": [],
   "source": [
    "logging.basicConfig(\n",
    "    level=logging.INFO,\n",
    "    format='%(asctime)s - %(levelname)s - %(message)s',\n",
    "    filename = log_filename\n",
    ")"
   ]
  },
  {
   "cell_type": "markdown",
   "id": "4c1c9fe0-5b93-47f7-ace4-f6a59416430a",
   "metadata": {},
   "source": [
    "## Import the directory structure into a DataFrame"
   ]
  },
  {
   "cell_type": "code",
   "execution_count": 5,
   "id": "8e9081e7-3571-4487-9032-d3fd27c8ce5d",
   "metadata": {
    "ExecuteTime": {
     "end_time": "2025-07-18T20:33:23.396482Z",
     "start_time": "2025-07-18T20:32:53.012346Z"
    }
   },
   "outputs": [],
   "source": [
    "# Initialising an empty list to hold the directory information\n",
    "directory_data = []\n",
    "\n",
    "# Walking through the directory structure\n",
    "for root, dirs, files in os.walk(input_directory):\n",
    "    #for file in tqdm(files, desc='Processing files'):\n",
    "    for file in files:\n",
    "        if file.endswith('.pdf'):\n",
    "            try:\n",
    "                # Getting the full file path\n",
    "                file_path = os.path.join(root, file)\n",
    "                # Splitting the root into individual directories\n",
    "                directory_parts = root.split(os.sep)\n",
    "                # Creating a dictionary for this file's information\n",
    "                file_info = {'File': file}\n",
    "                # Adding the file path to the dictionary\n",
    "                file_info['File Path'] = file_path\n",
    "                # Adding each part of the directory to the dictionary with appropriate keys\n",
    "                for i, part in enumerate(directory_parts):\n",
    "                    file_info[f\"Directory Level {i+1}\"] = part\n",
    "                \n",
    "                # Opening the PDF file\n",
    "                document = fitz.open(file_path)\n",
    "                # Extracting text from each page\n",
    "                text = ''\n",
    "                for page_num in range(document.page_count):\n",
    "                    page = document[page_num]\n",
    "                    text += page.get_text()\n",
    "\n",
    "                file_info['Scraped Text'] = text\n",
    "                document.close()\n",
    "                \n",
    "                # Adding the file info to the list\n",
    "                directory_data.append(file_info)\n",
    "                \n",
    "                # Logging the successful extraction\n",
    "                logging.info(f\"Successfully scraped {file_path}\")\n",
    "            except Exception as e:\n",
    "                # Logging any errors\n",
    "                logging.error(f\"Error scraping {file_path}: {str(e)}\")\n",
    "\n",
    "# Converting the list of dictionaries into a DataFrame\n",
    "df = pd.DataFrame(directory_data)"
   ]
  },
  {
   "cell_type": "code",
   "execution_count": 6,
   "id": "409a2b0a-b4bc-4068-8707-89e453d69eeb",
   "metadata": {
    "ExecuteTime": {
     "end_time": "2025-07-18T20:33:23.467029Z",
     "start_time": "2025-07-18T20:33:23.436956Z"
    }
   },
   "outputs": [
    {
     "data": {
      "text/html": [
       "<div>\n",
       "<style scoped>\n",
       "    .dataframe tbody tr th:only-of-type {\n",
       "        vertical-align: middle;\n",
       "    }\n",
       "\n",
       "    .dataframe tbody tr th {\n",
       "        vertical-align: top;\n",
       "    }\n",
       "\n",
       "    .dataframe thead th {\n",
       "        text-align: right;\n",
       "    }\n",
       "</style>\n",
       "<table border=\"1\" class=\"dataframe\">\n",
       "  <thead>\n",
       "    <tr style=\"text-align: right;\">\n",
       "      <th></th>\n",
       "      <th>File</th>\n",
       "      <th>File Path</th>\n",
       "      <th>Directory Level 1</th>\n",
       "      <th>Directory Level 2</th>\n",
       "      <th>Directory Level 3</th>\n",
       "      <th>Directory Level 4</th>\n",
       "      <th>Directory Level 5</th>\n",
       "      <th>Scraped Text</th>\n",
       "    </tr>\n",
       "  </thead>\n",
       "  <tbody>\n",
       "    <tr>\n",
       "      <th>0</th>\n",
       "      <td>CPA 2023 Fatec Cotia.pdf</td>\n",
       "      <td>cl_st1_ph1_fernanda_folders/cpa/22-23/r06/u270...</td>\n",
       "      <td>cl_st1_ph1_fernanda_folders</td>\n",
       "      <td>cpa</td>\n",
       "      <td>22-23</td>\n",
       "      <td>r06</td>\n",
       "      <td>u270</td>\n",
       "      <td>1 \\n____________________...</td>\n",
       "    </tr>\n",
       "    <tr>\n",
       "      <th>1</th>\n",
       "      <td>CPA 2023 Fatec Zona Sul.pdf</td>\n",
       "      <td>cl_st1_ph1_fernanda_folders/cpa/22-23/r06/u137...</td>\n",
       "      <td>cl_st1_ph1_fernanda_folders</td>\n",
       "      <td>cpa</td>\n",
       "      <td>22-23</td>\n",
       "      <td>r06</td>\n",
       "      <td>u137</td>\n",
       "      <td>\\n___________________________________________...</td>\n",
       "    </tr>\n",
       "    <tr>\n",
       "      <th>2</th>\n",
       "      <td>CPA 2023 Fatec Mauá.pdf</td>\n",
       "      <td>cl_st1_ph1_fernanda_folders/cpa/22-23/r06/u113...</td>\n",
       "      <td>cl_st1_ph1_fernanda_folders</td>\n",
       "      <td>cpa</td>\n",
       "      <td>22-23</td>\n",
       "      <td>r06</td>\n",
       "      <td>u113</td>\n",
       "      <td>1 \\n____________________...</td>\n",
       "    </tr>\n",
       "    <tr>\n",
       "      <th>3</th>\n",
       "      <td>CPA 2023 Fatec Baixada Santista.pdf</td>\n",
       "      <td>cl_st1_ph1_fernanda_folders/cpa/22-23/r06/u005...</td>\n",
       "      <td>cl_st1_ph1_fernanda_folders</td>\n",
       "      <td>cpa</td>\n",
       "      <td>22-23</td>\n",
       "      <td>r06</td>\n",
       "      <td>u005</td>\n",
       "      <td>\\n \\n \\n \\n \\n \\n \\n \\n \\n \\n \\n \\n \\n \\n \\n ...</td>\n",
       "    </tr>\n",
       "    <tr>\n",
       "      <th>4</th>\n",
       "      <td>CPA 2023 Fatec Diadema.pdf</td>\n",
       "      <td>cl_st1_ph1_fernanda_folders/cpa/22-23/r06/u217...</td>\n",
       "      <td>cl_st1_ph1_fernanda_folders</td>\n",
       "      <td>cpa</td>\n",
       "      <td>22-23</td>\n",
       "      <td>r06</td>\n",
       "      <td>u217</td>\n",
       "      <td>1 \\n____________________...</td>\n",
       "    </tr>\n",
       "    <tr>\n",
       "      <th>...</th>\n",
       "      <td>...</td>\n",
       "      <td>...</td>\n",
       "      <td>...</td>\n",
       "      <td>...</td>\n",
       "      <td>...</td>\n",
       "      <td>...</td>\n",
       "      <td>...</td>\n",
       "      <td>...</td>\n",
       "    </tr>\n",
       "    <tr>\n",
       "      <th>108</th>\n",
       "      <td>PDI 2023-u204_ Fatec Ipiranga.pdf</td>\n",
       "      <td>cl_st1_ph1_fernanda_folders/pdi/23/r06/u204/PD...</td>\n",
       "      <td>cl_st1_ph1_fernanda_folders</td>\n",
       "      <td>pdi</td>\n",
       "      <td>23</td>\n",
       "      <td>r06</td>\n",
       "      <td>u204</td>\n",
       "      <td>\\n \\nPlano de \\nDesenvolvimento \\nInstitucion...</td>\n",
       "    </tr>\n",
       "    <tr>\n",
       "      <th>109</th>\n",
       "      <td>RADE e2022_r2024 Fatec_Cotia v.02.pdf</td>\n",
       "      <td>cl_st1_ph1_fernanda_folders/rade/23-24/r06/u27...</td>\n",
       "      <td>cl_st1_ph1_fernanda_folders</td>\n",
       "      <td>rade</td>\n",
       "      <td>23-24</td>\n",
       "      <td>r06</td>\n",
       "      <td>u270</td>\n",
       "      <td>1 \\n \\n \\n \\n \\n \\n \\n \\n \\n \\n \\nDireção da ...</td>\n",
       "    </tr>\n",
       "    <tr>\n",
       "      <th>110</th>\n",
       "      <td>RADE e2022_r2024 Fatec_Zona Sul v.02.pdf</td>\n",
       "      <td>cl_st1_ph1_fernanda_folders/rade/23-24/r06/u13...</td>\n",
       "      <td>cl_st1_ph1_fernanda_folders</td>\n",
       "      <td>rade</td>\n",
       "      <td>23-24</td>\n",
       "      <td>r06</td>\n",
       "      <td>u137</td>\n",
       "      <td>1 \\n \\n \\n \\n \\n \\n \\n \\n \\n \\n \\nDireção da ...</td>\n",
       "    </tr>\n",
       "    <tr>\n",
       "      <th>111</th>\n",
       "      <td>RADE e2022_r2024 Fatec_São Caetano do Sul v.0...</td>\n",
       "      <td>cl_st1_ph1_fernanda_folders/rade/23-24/r06/u16...</td>\n",
       "      <td>cl_st1_ph1_fernanda_folders</td>\n",
       "      <td>rade</td>\n",
       "      <td>23-24</td>\n",
       "      <td>r06</td>\n",
       "      <td>u168</td>\n",
       "      <td>1 \\n \\n \\n \\n \\n \\n \\n \\n \\n \\n \\nDireção da ...</td>\n",
       "    </tr>\n",
       "    <tr>\n",
       "      <th>112</th>\n",
       "      <td>RADE e2022_r2024 Fatec_Praia Grande v.02.pdf</td>\n",
       "      <td>cl_st1_ph1_fernanda_folders/rade/23-24/r06/u12...</td>\n",
       "      <td>cl_st1_ph1_fernanda_folders</td>\n",
       "      <td>rade</td>\n",
       "      <td>23-24</td>\n",
       "      <td>r06</td>\n",
       "      <td>u129</td>\n",
       "      <td>1 \\n \\n \\n \\n \\n \\n \\n \\n \\n \\n \\nDireção da ...</td>\n",
       "    </tr>\n",
       "  </tbody>\n",
       "</table>\n",
       "<p>113 rows × 8 columns</p>\n",
       "</div>"
      ],
      "text/plain": [
       "                                                  File  \\\n",
       "0                             CPA 2023 Fatec Cotia.pdf   \n",
       "1                          CPA 2023 Fatec Zona Sul.pdf   \n",
       "2                             CPA 2023 Fatec Mauá.pdf   \n",
       "3                  CPA 2023 Fatec Baixada Santista.pdf   \n",
       "4                           CPA 2023 Fatec Diadema.pdf   \n",
       "..                                                 ...   \n",
       "108                  PDI 2023-u204_ Fatec Ipiranga.pdf   \n",
       "109              RADE e2022_r2024 Fatec_Cotia v.02.pdf   \n",
       "110           RADE e2022_r2024 Fatec_Zona Sul v.02.pdf   \n",
       "111  RADE e2022_r2024 Fatec_São Caetano do Sul v.0...   \n",
       "112       RADE e2022_r2024 Fatec_Praia Grande v.02.pdf   \n",
       "\n",
       "                                             File Path  \\\n",
       "0    cl_st1_ph1_fernanda_folders/cpa/22-23/r06/u270...   \n",
       "1    cl_st1_ph1_fernanda_folders/cpa/22-23/r06/u137...   \n",
       "2    cl_st1_ph1_fernanda_folders/cpa/22-23/r06/u113...   \n",
       "3    cl_st1_ph1_fernanda_folders/cpa/22-23/r06/u005...   \n",
       "4    cl_st1_ph1_fernanda_folders/cpa/22-23/r06/u217...   \n",
       "..                                                 ...   \n",
       "108  cl_st1_ph1_fernanda_folders/pdi/23/r06/u204/PD...   \n",
       "109  cl_st1_ph1_fernanda_folders/rade/23-24/r06/u27...   \n",
       "110  cl_st1_ph1_fernanda_folders/rade/23-24/r06/u13...   \n",
       "111  cl_st1_ph1_fernanda_folders/rade/23-24/r06/u16...   \n",
       "112  cl_st1_ph1_fernanda_folders/rade/23-24/r06/u12...   \n",
       "\n",
       "               Directory Level 1 Directory Level 2 Directory Level 3  \\\n",
       "0    cl_st1_ph1_fernanda_folders               cpa             22-23   \n",
       "1    cl_st1_ph1_fernanda_folders               cpa             22-23   \n",
       "2    cl_st1_ph1_fernanda_folders               cpa             22-23   \n",
       "3    cl_st1_ph1_fernanda_folders               cpa             22-23   \n",
       "4    cl_st1_ph1_fernanda_folders               cpa             22-23   \n",
       "..                           ...               ...               ...   \n",
       "108  cl_st1_ph1_fernanda_folders               pdi                23   \n",
       "109  cl_st1_ph1_fernanda_folders              rade             23-24   \n",
       "110  cl_st1_ph1_fernanda_folders              rade             23-24   \n",
       "111  cl_st1_ph1_fernanda_folders              rade             23-24   \n",
       "112  cl_st1_ph1_fernanda_folders              rade             23-24   \n",
       "\n",
       "    Directory Level 4 Directory Level 5  \\\n",
       "0                 r06              u270   \n",
       "1                 r06              u137   \n",
       "2                 r06              u113   \n",
       "3                 r06              u005   \n",
       "4                 r06              u217   \n",
       "..                ...               ...   \n",
       "108               r06              u204   \n",
       "109               r06              u270   \n",
       "110               r06              u137   \n",
       "111               r06              u168   \n",
       "112               r06              u129   \n",
       "\n",
       "                                          Scraped Text  \n",
       "0                          1 \\n____________________...  \n",
       "1     \\n___________________________________________...  \n",
       "2                          1 \\n____________________...  \n",
       "3     \\n \\n \\n \\n \\n \\n \\n \\n \\n \\n \\n \\n \\n \\n \\n ...  \n",
       "4                          1 \\n____________________...  \n",
       "..                                                 ...  \n",
       "108   \\n \\nPlano de \\nDesenvolvimento \\nInstitucion...  \n",
       "109  1 \\n \\n \\n \\n \\n \\n \\n \\n \\n \\n \\nDireção da ...  \n",
       "110  1 \\n \\n \\n \\n \\n \\n \\n \\n \\n \\n \\nDireção da ...  \n",
       "111  1 \\n \\n \\n \\n \\n \\n \\n \\n \\n \\n \\nDireção da ...  \n",
       "112  1 \\n \\n \\n \\n \\n \\n \\n \\n \\n \\n \\nDireção da ...  \n",
       "\n",
       "[113 rows x 8 columns]"
      ]
     },
     "execution_count": 6,
     "metadata": {},
     "output_type": "execute_result"
    }
   ],
   "source": [
    "df"
   ]
  },
  {
   "cell_type": "markdown",
   "id": "fdd102c8-f6b7-4812-b0d3-0bd8deb5d1c7",
   "metadata": {},
   "source": [
    "## Rename the columns"
   ]
  },
  {
   "cell_type": "code",
   "execution_count": 7,
   "id": "98f5009f-4bed-4497-a8d5-85a0a5c325b5",
   "metadata": {
    "ExecuteTime": {
     "end_time": "2025-07-18T20:33:23.569772Z",
     "start_time": "2025-07-18T20:33:23.553708Z"
    }
   },
   "outputs": [],
   "source": [
    "df = df.rename(columns={'Directory Level 1': 'Root Directory', 'Directory Level 2': 'Document Type', 'Directory Level 3': 'Year', 'Directory Level 4': 'Branch', 'Directory Level 5': 'Unit'})"
   ]
  },
  {
   "cell_type": "code",
   "execution_count": 8,
   "id": "5ab30502-69e2-4d8a-a067-ae36beadd11a",
   "metadata": {
    "ExecuteTime": {
     "end_time": "2025-07-18T20:33:23.922616Z",
     "start_time": "2025-07-18T20:33:23.845273Z"
    }
   },
   "outputs": [
    {
     "data": {
      "text/html": [
       "<div>\n",
       "<style scoped>\n",
       "    .dataframe tbody tr th:only-of-type {\n",
       "        vertical-align: middle;\n",
       "    }\n",
       "\n",
       "    .dataframe tbody tr th {\n",
       "        vertical-align: top;\n",
       "    }\n",
       "\n",
       "    .dataframe thead th {\n",
       "        text-align: right;\n",
       "    }\n",
       "</style>\n",
       "<table border=\"1\" class=\"dataframe\">\n",
       "  <thead>\n",
       "    <tr style=\"text-align: right;\">\n",
       "      <th></th>\n",
       "      <th>File</th>\n",
       "      <th>File Path</th>\n",
       "      <th>Root Directory</th>\n",
       "      <th>Document Type</th>\n",
       "      <th>Year</th>\n",
       "      <th>Branch</th>\n",
       "      <th>Unit</th>\n",
       "      <th>Scraped Text</th>\n",
       "    </tr>\n",
       "  </thead>\n",
       "  <tbody>\n",
       "    <tr>\n",
       "      <th>0</th>\n",
       "      <td>CPA 2023 Fatec Cotia.pdf</td>\n",
       "      <td>cl_st1_ph1_fernanda_folders/cpa/22-23/r06/u270...</td>\n",
       "      <td>cl_st1_ph1_fernanda_folders</td>\n",
       "      <td>cpa</td>\n",
       "      <td>22-23</td>\n",
       "      <td>r06</td>\n",
       "      <td>u270</td>\n",
       "      <td>1 \\n____________________...</td>\n",
       "    </tr>\n",
       "    <tr>\n",
       "      <th>1</th>\n",
       "      <td>CPA 2023 Fatec Zona Sul.pdf</td>\n",
       "      <td>cl_st1_ph1_fernanda_folders/cpa/22-23/r06/u137...</td>\n",
       "      <td>cl_st1_ph1_fernanda_folders</td>\n",
       "      <td>cpa</td>\n",
       "      <td>22-23</td>\n",
       "      <td>r06</td>\n",
       "      <td>u137</td>\n",
       "      <td>\\n___________________________________________...</td>\n",
       "    </tr>\n",
       "    <tr>\n",
       "      <th>2</th>\n",
       "      <td>CPA 2023 Fatec Mauá.pdf</td>\n",
       "      <td>cl_st1_ph1_fernanda_folders/cpa/22-23/r06/u113...</td>\n",
       "      <td>cl_st1_ph1_fernanda_folders</td>\n",
       "      <td>cpa</td>\n",
       "      <td>22-23</td>\n",
       "      <td>r06</td>\n",
       "      <td>u113</td>\n",
       "      <td>1 \\n____________________...</td>\n",
       "    </tr>\n",
       "    <tr>\n",
       "      <th>3</th>\n",
       "      <td>CPA 2023 Fatec Baixada Santista.pdf</td>\n",
       "      <td>cl_st1_ph1_fernanda_folders/cpa/22-23/r06/u005...</td>\n",
       "      <td>cl_st1_ph1_fernanda_folders</td>\n",
       "      <td>cpa</td>\n",
       "      <td>22-23</td>\n",
       "      <td>r06</td>\n",
       "      <td>u005</td>\n",
       "      <td>\\n \\n \\n \\n \\n \\n \\n \\n \\n \\n \\n \\n \\n \\n \\n ...</td>\n",
       "    </tr>\n",
       "    <tr>\n",
       "      <th>4</th>\n",
       "      <td>CPA 2023 Fatec Diadema.pdf</td>\n",
       "      <td>cl_st1_ph1_fernanda_folders/cpa/22-23/r06/u217...</td>\n",
       "      <td>cl_st1_ph1_fernanda_folders</td>\n",
       "      <td>cpa</td>\n",
       "      <td>22-23</td>\n",
       "      <td>r06</td>\n",
       "      <td>u217</td>\n",
       "      <td>1 \\n____________________...</td>\n",
       "    </tr>\n",
       "    <tr>\n",
       "      <th>...</th>\n",
       "      <td>...</td>\n",
       "      <td>...</td>\n",
       "      <td>...</td>\n",
       "      <td>...</td>\n",
       "      <td>...</td>\n",
       "      <td>...</td>\n",
       "      <td>...</td>\n",
       "      <td>...</td>\n",
       "    </tr>\n",
       "    <tr>\n",
       "      <th>108</th>\n",
       "      <td>PDI 2023-u204_ Fatec Ipiranga.pdf</td>\n",
       "      <td>cl_st1_ph1_fernanda_folders/pdi/23/r06/u204/PD...</td>\n",
       "      <td>cl_st1_ph1_fernanda_folders</td>\n",
       "      <td>pdi</td>\n",
       "      <td>23</td>\n",
       "      <td>r06</td>\n",
       "      <td>u204</td>\n",
       "      <td>\\n \\nPlano de \\nDesenvolvimento \\nInstitucion...</td>\n",
       "    </tr>\n",
       "    <tr>\n",
       "      <th>109</th>\n",
       "      <td>RADE e2022_r2024 Fatec_Cotia v.02.pdf</td>\n",
       "      <td>cl_st1_ph1_fernanda_folders/rade/23-24/r06/u27...</td>\n",
       "      <td>cl_st1_ph1_fernanda_folders</td>\n",
       "      <td>rade</td>\n",
       "      <td>23-24</td>\n",
       "      <td>r06</td>\n",
       "      <td>u270</td>\n",
       "      <td>1 \\n \\n \\n \\n \\n \\n \\n \\n \\n \\n \\nDireção da ...</td>\n",
       "    </tr>\n",
       "    <tr>\n",
       "      <th>110</th>\n",
       "      <td>RADE e2022_r2024 Fatec_Zona Sul v.02.pdf</td>\n",
       "      <td>cl_st1_ph1_fernanda_folders/rade/23-24/r06/u13...</td>\n",
       "      <td>cl_st1_ph1_fernanda_folders</td>\n",
       "      <td>rade</td>\n",
       "      <td>23-24</td>\n",
       "      <td>r06</td>\n",
       "      <td>u137</td>\n",
       "      <td>1 \\n \\n \\n \\n \\n \\n \\n \\n \\n \\n \\nDireção da ...</td>\n",
       "    </tr>\n",
       "    <tr>\n",
       "      <th>111</th>\n",
       "      <td>RADE e2022_r2024 Fatec_São Caetano do Sul v.0...</td>\n",
       "      <td>cl_st1_ph1_fernanda_folders/rade/23-24/r06/u16...</td>\n",
       "      <td>cl_st1_ph1_fernanda_folders</td>\n",
       "      <td>rade</td>\n",
       "      <td>23-24</td>\n",
       "      <td>r06</td>\n",
       "      <td>u168</td>\n",
       "      <td>1 \\n \\n \\n \\n \\n \\n \\n \\n \\n \\n \\nDireção da ...</td>\n",
       "    </tr>\n",
       "    <tr>\n",
       "      <th>112</th>\n",
       "      <td>RADE e2022_r2024 Fatec_Praia Grande v.02.pdf</td>\n",
       "      <td>cl_st1_ph1_fernanda_folders/rade/23-24/r06/u12...</td>\n",
       "      <td>cl_st1_ph1_fernanda_folders</td>\n",
       "      <td>rade</td>\n",
       "      <td>23-24</td>\n",
       "      <td>r06</td>\n",
       "      <td>u129</td>\n",
       "      <td>1 \\n \\n \\n \\n \\n \\n \\n \\n \\n \\n \\nDireção da ...</td>\n",
       "    </tr>\n",
       "  </tbody>\n",
       "</table>\n",
       "<p>113 rows × 8 columns</p>\n",
       "</div>"
      ],
      "text/plain": [
       "                                                  File  \\\n",
       "0                             CPA 2023 Fatec Cotia.pdf   \n",
       "1                          CPA 2023 Fatec Zona Sul.pdf   \n",
       "2                             CPA 2023 Fatec Mauá.pdf   \n",
       "3                  CPA 2023 Fatec Baixada Santista.pdf   \n",
       "4                           CPA 2023 Fatec Diadema.pdf   \n",
       "..                                                 ...   \n",
       "108                  PDI 2023-u204_ Fatec Ipiranga.pdf   \n",
       "109              RADE e2022_r2024 Fatec_Cotia v.02.pdf   \n",
       "110           RADE e2022_r2024 Fatec_Zona Sul v.02.pdf   \n",
       "111  RADE e2022_r2024 Fatec_São Caetano do Sul v.0...   \n",
       "112       RADE e2022_r2024 Fatec_Praia Grande v.02.pdf   \n",
       "\n",
       "                                             File Path  \\\n",
       "0    cl_st1_ph1_fernanda_folders/cpa/22-23/r06/u270...   \n",
       "1    cl_st1_ph1_fernanda_folders/cpa/22-23/r06/u137...   \n",
       "2    cl_st1_ph1_fernanda_folders/cpa/22-23/r06/u113...   \n",
       "3    cl_st1_ph1_fernanda_folders/cpa/22-23/r06/u005...   \n",
       "4    cl_st1_ph1_fernanda_folders/cpa/22-23/r06/u217...   \n",
       "..                                                 ...   \n",
       "108  cl_st1_ph1_fernanda_folders/pdi/23/r06/u204/PD...   \n",
       "109  cl_st1_ph1_fernanda_folders/rade/23-24/r06/u27...   \n",
       "110  cl_st1_ph1_fernanda_folders/rade/23-24/r06/u13...   \n",
       "111  cl_st1_ph1_fernanda_folders/rade/23-24/r06/u16...   \n",
       "112  cl_st1_ph1_fernanda_folders/rade/23-24/r06/u12...   \n",
       "\n",
       "                  Root Directory Document Type   Year Branch  Unit  \\\n",
       "0    cl_st1_ph1_fernanda_folders           cpa  22-23    r06  u270   \n",
       "1    cl_st1_ph1_fernanda_folders           cpa  22-23    r06  u137   \n",
       "2    cl_st1_ph1_fernanda_folders           cpa  22-23    r06  u113   \n",
       "3    cl_st1_ph1_fernanda_folders           cpa  22-23    r06  u005   \n",
       "4    cl_st1_ph1_fernanda_folders           cpa  22-23    r06  u217   \n",
       "..                           ...           ...    ...    ...   ...   \n",
       "108  cl_st1_ph1_fernanda_folders           pdi     23    r06  u204   \n",
       "109  cl_st1_ph1_fernanda_folders          rade  23-24    r06  u270   \n",
       "110  cl_st1_ph1_fernanda_folders          rade  23-24    r06  u137   \n",
       "111  cl_st1_ph1_fernanda_folders          rade  23-24    r06  u168   \n",
       "112  cl_st1_ph1_fernanda_folders          rade  23-24    r06  u129   \n",
       "\n",
       "                                          Scraped Text  \n",
       "0                          1 \\n____________________...  \n",
       "1     \\n___________________________________________...  \n",
       "2                          1 \\n____________________...  \n",
       "3     \\n \\n \\n \\n \\n \\n \\n \\n \\n \\n \\n \\n \\n \\n \\n ...  \n",
       "4                          1 \\n____________________...  \n",
       "..                                                 ...  \n",
       "108   \\n \\nPlano de \\nDesenvolvimento \\nInstitucion...  \n",
       "109  1 \\n \\n \\n \\n \\n \\n \\n \\n \\n \\n \\nDireção da ...  \n",
       "110  1 \\n \\n \\n \\n \\n \\n \\n \\n \\n \\n \\nDireção da ...  \n",
       "111  1 \\n \\n \\n \\n \\n \\n \\n \\n \\n \\n \\nDireção da ...  \n",
       "112  1 \\n \\n \\n \\n \\n \\n \\n \\n \\n \\n \\nDireção da ...  \n",
       "\n",
       "[113 rows x 8 columns]"
      ]
     },
     "execution_count": 8,
     "metadata": {},
     "output_type": "execute_result"
    }
   ],
   "source": [
    "df"
   ]
  },
  {
   "cell_type": "markdown",
   "id": "7432589f-4eab-4ea0-a1d8-6c4a26f7098b",
   "metadata": {},
   "source": [
    "## Create the column `Text ID`"
   ]
  },
  {
   "cell_type": "code",
   "execution_count": 9,
   "id": "cd9f732a-d963-43eb-b1f3-86a64c3f4610",
   "metadata": {
    "ExecuteTime": {
     "end_time": "2025-07-18T20:33:24.117481Z",
     "start_time": "2025-07-18T20:33:24.098196Z"
    }
   },
   "outputs": [],
   "source": [
    "df['Text ID'] = 't' + df.index.astype(str).str.zfill(6)"
   ]
  },
  {
   "cell_type": "code",
   "execution_count": 10,
   "id": "b5918573-c673-42ea-95ed-c39c138b008a",
   "metadata": {
    "ExecuteTime": {
     "end_time": "2025-07-18T20:33:24.504649Z",
     "start_time": "2025-07-18T20:33:24.488406Z"
    }
   },
   "outputs": [
    {
     "data": {
      "text/plain": [
       "File              object\n",
       "File Path         object\n",
       "Root Directory    object\n",
       "Document Type     object\n",
       "Year              object\n",
       "Branch            object\n",
       "Unit              object\n",
       "Scraped Text      object\n",
       "Text ID           object\n",
       "dtype: object"
      ]
     },
     "execution_count": 10,
     "metadata": {},
     "output_type": "execute_result"
    }
   ],
   "source": [
    "df.dtypes"
   ]
  },
  {
   "cell_type": "markdown",
   "id": "d04b1190-1cb8-47a0-96d9-cb7a89656443",
   "metadata": {},
   "source": [
    "## Export to a file"
   ]
  },
  {
   "cell_type": "code",
   "execution_count": 11,
   "id": "323d737d-d0d9-44f1-b5d1-936195415067",
   "metadata": {
    "ExecuteTime": {
     "end_time": "2025-07-18T20:33:25.327616Z",
     "start_time": "2025-07-18T20:33:24.721577Z"
    }
   },
   "outputs": [],
   "source": [
    "df[['Root Directory', 'Document Type', 'Year', 'Branch', 'Unit', 'File', 'File Path', 'Text ID', 'Scraped Text']].to_json(f\"{output_directory}/cl_st1_ph1_fernanda_scraped.jsonl\", orient='records', lines=True)"
   ]
  },
  {
   "cell_type": "markdown",
   "id": "957d29bd-5cc3-4b4d-b24b-05c9813f0189",
   "metadata": {},
   "source": [
    "## Import data into a DataFrame"
   ]
  },
  {
   "cell_type": "code",
   "execution_count": 12,
   "id": "bc4132f4-1ead-4638-bcbd-000bffd61aba",
   "metadata": {
    "ExecuteTime": {
     "end_time": "2025-07-18T20:33:25.841258Z",
     "start_time": "2025-07-18T20:33:25.622945Z"
    }
   },
   "outputs": [],
   "source": [
    "df = pd.read_json(f'{output_directory}/cl_st1_ph1_fernanda_scraped.jsonl', lines=True)"
   ]
  },
  {
   "cell_type": "code",
   "execution_count": 13,
   "id": "b78fb01c-0e05-4907-8b82-c3bd2eb5c56a",
   "metadata": {
    "ExecuteTime": {
     "end_time": "2025-07-18T20:33:25.883084Z",
     "start_time": "2025-07-18T20:33:25.875169Z"
    }
   },
   "outputs": [
    {
     "data": {
      "text/plain": [
       "Root Directory    object\n",
       "Document Type     object\n",
       "Year              object\n",
       "Branch            object\n",
       "Unit              object\n",
       "File              object\n",
       "File Path         object\n",
       "Text ID           object\n",
       "Scraped Text      object\n",
       "dtype: object"
      ]
     },
     "execution_count": 13,
     "metadata": {},
     "output_type": "execute_result"
    }
   ],
   "source": [
    "df.dtypes"
   ]
  },
  {
   "cell_type": "code",
   "execution_count": 14,
   "id": "4887d561-4ecd-400d-8738-26b5b0938641",
   "metadata": {
    "ExecuteTime": {
     "end_time": "2025-07-18T20:33:26.010449Z",
     "start_time": "2025-07-18T20:33:25.984367Z"
    }
   },
   "outputs": [
    {
     "data": {
      "text/html": [
       "<div>\n",
       "<style scoped>\n",
       "    .dataframe tbody tr th:only-of-type {\n",
       "        vertical-align: middle;\n",
       "    }\n",
       "\n",
       "    .dataframe tbody tr th {\n",
       "        vertical-align: top;\n",
       "    }\n",
       "\n",
       "    .dataframe thead th {\n",
       "        text-align: right;\n",
       "    }\n",
       "</style>\n",
       "<table border=\"1\" class=\"dataframe\">\n",
       "  <thead>\n",
       "    <tr style=\"text-align: right;\">\n",
       "      <th></th>\n",
       "      <th>Root Directory</th>\n",
       "      <th>Document Type</th>\n",
       "      <th>Year</th>\n",
       "      <th>Branch</th>\n",
       "      <th>Unit</th>\n",
       "      <th>File</th>\n",
       "      <th>File Path</th>\n",
       "      <th>Text ID</th>\n",
       "      <th>Scraped Text</th>\n",
       "    </tr>\n",
       "  </thead>\n",
       "  <tbody>\n",
       "    <tr>\n",
       "      <th>0</th>\n",
       "      <td>cl_st1_ph1_fernanda_folders</td>\n",
       "      <td>cpa</td>\n",
       "      <td>22-23</td>\n",
       "      <td>r06</td>\n",
       "      <td>u270</td>\n",
       "      <td>CPA 2023 Fatec Cotia.pdf</td>\n",
       "      <td>cl_st1_ph1_fernanda_folders/cpa/22-23/r06/u270...</td>\n",
       "      <td>t000000</td>\n",
       "      <td>1 \\n____________________...</td>\n",
       "    </tr>\n",
       "    <tr>\n",
       "      <th>1</th>\n",
       "      <td>cl_st1_ph1_fernanda_folders</td>\n",
       "      <td>cpa</td>\n",
       "      <td>22-23</td>\n",
       "      <td>r06</td>\n",
       "      <td>u137</td>\n",
       "      <td>CPA 2023 Fatec Zona Sul.pdf</td>\n",
       "      <td>cl_st1_ph1_fernanda_folders/cpa/22-23/r06/u137...</td>\n",
       "      <td>t000001</td>\n",
       "      <td>\\n___________________________________________...</td>\n",
       "    </tr>\n",
       "    <tr>\n",
       "      <th>2</th>\n",
       "      <td>cl_st1_ph1_fernanda_folders</td>\n",
       "      <td>cpa</td>\n",
       "      <td>22-23</td>\n",
       "      <td>r06</td>\n",
       "      <td>u113</td>\n",
       "      <td>CPA 2023 Fatec Mauá.pdf</td>\n",
       "      <td>cl_st1_ph1_fernanda_folders/cpa/22-23/r06/u113...</td>\n",
       "      <td>t000002</td>\n",
       "      <td>1 \\n____________________...</td>\n",
       "    </tr>\n",
       "    <tr>\n",
       "      <th>3</th>\n",
       "      <td>cl_st1_ph1_fernanda_folders</td>\n",
       "      <td>cpa</td>\n",
       "      <td>22-23</td>\n",
       "      <td>r06</td>\n",
       "      <td>u005</td>\n",
       "      <td>CPA 2023 Fatec Baixada Santista.pdf</td>\n",
       "      <td>cl_st1_ph1_fernanda_folders/cpa/22-23/r06/u005...</td>\n",
       "      <td>t000003</td>\n",
       "      <td>\\n \\n \\n \\n \\n \\n \\n \\n \\n \\n \\n \\n \\n \\n \\n ...</td>\n",
       "    </tr>\n",
       "    <tr>\n",
       "      <th>4</th>\n",
       "      <td>cl_st1_ph1_fernanda_folders</td>\n",
       "      <td>cpa</td>\n",
       "      <td>22-23</td>\n",
       "      <td>r06</td>\n",
       "      <td>u217</td>\n",
       "      <td>CPA 2023 Fatec Diadema.pdf</td>\n",
       "      <td>cl_st1_ph1_fernanda_folders/cpa/22-23/r06/u217...</td>\n",
       "      <td>t000004</td>\n",
       "      <td>1 \\n____________________...</td>\n",
       "    </tr>\n",
       "    <tr>\n",
       "      <th>...</th>\n",
       "      <td>...</td>\n",
       "      <td>...</td>\n",
       "      <td>...</td>\n",
       "      <td>...</td>\n",
       "      <td>...</td>\n",
       "      <td>...</td>\n",
       "      <td>...</td>\n",
       "      <td>...</td>\n",
       "      <td>...</td>\n",
       "    </tr>\n",
       "    <tr>\n",
       "      <th>108</th>\n",
       "      <td>cl_st1_ph1_fernanda_folders</td>\n",
       "      <td>pdi</td>\n",
       "      <td>23</td>\n",
       "      <td>r06</td>\n",
       "      <td>u204</td>\n",
       "      <td>PDI 2023-u204_ Fatec Ipiranga.pdf</td>\n",
       "      <td>cl_st1_ph1_fernanda_folders/pdi/23/r06/u204/PD...</td>\n",
       "      <td>t000108</td>\n",
       "      <td>\\n \\nPlano de \\nDesenvolvimento \\nInstitucion...</td>\n",
       "    </tr>\n",
       "    <tr>\n",
       "      <th>109</th>\n",
       "      <td>cl_st1_ph1_fernanda_folders</td>\n",
       "      <td>rade</td>\n",
       "      <td>23-24</td>\n",
       "      <td>r06</td>\n",
       "      <td>u270</td>\n",
       "      <td>RADE e2022_r2024 Fatec_Cotia v.02.pdf</td>\n",
       "      <td>cl_st1_ph1_fernanda_folders/rade/23-24/r06/u27...</td>\n",
       "      <td>t000109</td>\n",
       "      <td>1 \\n \\n \\n \\n \\n \\n \\n \\n \\n \\n \\nDireção da ...</td>\n",
       "    </tr>\n",
       "    <tr>\n",
       "      <th>110</th>\n",
       "      <td>cl_st1_ph1_fernanda_folders</td>\n",
       "      <td>rade</td>\n",
       "      <td>23-24</td>\n",
       "      <td>r06</td>\n",
       "      <td>u137</td>\n",
       "      <td>RADE e2022_r2024 Fatec_Zona Sul v.02.pdf</td>\n",
       "      <td>cl_st1_ph1_fernanda_folders/rade/23-24/r06/u13...</td>\n",
       "      <td>t000110</td>\n",
       "      <td>1 \\n \\n \\n \\n \\n \\n \\n \\n \\n \\n \\nDireção da ...</td>\n",
       "    </tr>\n",
       "    <tr>\n",
       "      <th>111</th>\n",
       "      <td>cl_st1_ph1_fernanda_folders</td>\n",
       "      <td>rade</td>\n",
       "      <td>23-24</td>\n",
       "      <td>r06</td>\n",
       "      <td>u168</td>\n",
       "      <td>RADE e2022_r2024 Fatec_São Caetano do Sul v.0...</td>\n",
       "      <td>cl_st1_ph1_fernanda_folders/rade/23-24/r06/u16...</td>\n",
       "      <td>t000111</td>\n",
       "      <td>1 \\n \\n \\n \\n \\n \\n \\n \\n \\n \\n \\nDireção da ...</td>\n",
       "    </tr>\n",
       "    <tr>\n",
       "      <th>112</th>\n",
       "      <td>cl_st1_ph1_fernanda_folders</td>\n",
       "      <td>rade</td>\n",
       "      <td>23-24</td>\n",
       "      <td>r06</td>\n",
       "      <td>u129</td>\n",
       "      <td>RADE e2022_r2024 Fatec_Praia Grande v.02.pdf</td>\n",
       "      <td>cl_st1_ph1_fernanda_folders/rade/23-24/r06/u12...</td>\n",
       "      <td>t000112</td>\n",
       "      <td>1 \\n \\n \\n \\n \\n \\n \\n \\n \\n \\n \\nDireção da ...</td>\n",
       "    </tr>\n",
       "  </tbody>\n",
       "</table>\n",
       "<p>113 rows × 9 columns</p>\n",
       "</div>"
      ],
      "text/plain": [
       "                  Root Directory Document Type   Year Branch  Unit  \\\n",
       "0    cl_st1_ph1_fernanda_folders           cpa  22-23    r06  u270   \n",
       "1    cl_st1_ph1_fernanda_folders           cpa  22-23    r06  u137   \n",
       "2    cl_st1_ph1_fernanda_folders           cpa  22-23    r06  u113   \n",
       "3    cl_st1_ph1_fernanda_folders           cpa  22-23    r06  u005   \n",
       "4    cl_st1_ph1_fernanda_folders           cpa  22-23    r06  u217   \n",
       "..                           ...           ...    ...    ...   ...   \n",
       "108  cl_st1_ph1_fernanda_folders           pdi     23    r06  u204   \n",
       "109  cl_st1_ph1_fernanda_folders          rade  23-24    r06  u270   \n",
       "110  cl_st1_ph1_fernanda_folders          rade  23-24    r06  u137   \n",
       "111  cl_st1_ph1_fernanda_folders          rade  23-24    r06  u168   \n",
       "112  cl_st1_ph1_fernanda_folders          rade  23-24    r06  u129   \n",
       "\n",
       "                                                  File  \\\n",
       "0                             CPA 2023 Fatec Cotia.pdf   \n",
       "1                          CPA 2023 Fatec Zona Sul.pdf   \n",
       "2                             CPA 2023 Fatec Mauá.pdf   \n",
       "3                  CPA 2023 Fatec Baixada Santista.pdf   \n",
       "4                           CPA 2023 Fatec Diadema.pdf   \n",
       "..                                                 ...   \n",
       "108                  PDI 2023-u204_ Fatec Ipiranga.pdf   \n",
       "109              RADE e2022_r2024 Fatec_Cotia v.02.pdf   \n",
       "110           RADE e2022_r2024 Fatec_Zona Sul v.02.pdf   \n",
       "111  RADE e2022_r2024 Fatec_São Caetano do Sul v.0...   \n",
       "112       RADE e2022_r2024 Fatec_Praia Grande v.02.pdf   \n",
       "\n",
       "                                             File Path  Text ID  \\\n",
       "0    cl_st1_ph1_fernanda_folders/cpa/22-23/r06/u270...  t000000   \n",
       "1    cl_st1_ph1_fernanda_folders/cpa/22-23/r06/u137...  t000001   \n",
       "2    cl_st1_ph1_fernanda_folders/cpa/22-23/r06/u113...  t000002   \n",
       "3    cl_st1_ph1_fernanda_folders/cpa/22-23/r06/u005...  t000003   \n",
       "4    cl_st1_ph1_fernanda_folders/cpa/22-23/r06/u217...  t000004   \n",
       "..                                                 ...      ...   \n",
       "108  cl_st1_ph1_fernanda_folders/pdi/23/r06/u204/PD...  t000108   \n",
       "109  cl_st1_ph1_fernanda_folders/rade/23-24/r06/u27...  t000109   \n",
       "110  cl_st1_ph1_fernanda_folders/rade/23-24/r06/u13...  t000110   \n",
       "111  cl_st1_ph1_fernanda_folders/rade/23-24/r06/u16...  t000111   \n",
       "112  cl_st1_ph1_fernanda_folders/rade/23-24/r06/u12...  t000112   \n",
       "\n",
       "                                          Scraped Text  \n",
       "0                          1 \\n____________________...  \n",
       "1     \\n___________________________________________...  \n",
       "2                          1 \\n____________________...  \n",
       "3     \\n \\n \\n \\n \\n \\n \\n \\n \\n \\n \\n \\n \\n \\n \\n ...  \n",
       "4                          1 \\n____________________...  \n",
       "..                                                 ...  \n",
       "108   \\n \\nPlano de \\nDesenvolvimento \\nInstitucion...  \n",
       "109  1 \\n \\n \\n \\n \\n \\n \\n \\n \\n \\n \\nDireção da ...  \n",
       "110  1 \\n \\n \\n \\n \\n \\n \\n \\n \\n \\n \\nDireção da ...  \n",
       "111  1 \\n \\n \\n \\n \\n \\n \\n \\n \\n \\n \\nDireção da ...  \n",
       "112  1 \\n \\n \\n \\n \\n \\n \\n \\n \\n \\n \\nDireção da ...  \n",
       "\n",
       "[113 rows x 9 columns]"
      ]
     },
     "execution_count": 14,
     "metadata": {},
     "output_type": "execute_result"
    }
   ],
   "source": [
    "df"
   ]
  },
  {
   "cell_type": "markdown",
   "id": "de4db21f-6cf9-4467-89f0-5821d0714a53",
   "metadata": {},
   "source": [
    "## Inspect a few rows"
   ]
  },
  {
   "cell_type": "code",
   "execution_count": 15,
   "id": "5ffca1b3-cdca-40de-9259-f49cd3c6d413",
   "metadata": {
    "ExecuteTime": {
     "end_time": "2025-07-18T20:33:26.203441Z",
     "start_time": "2025-07-18T20:33:26.195770Z"
    }
   },
   "outputs": [
    {
     "data": {
      "text/plain": [
       "'CPA 2025 Fatec Mauá.pdf'"
      ]
     },
     "execution_count": 15,
     "metadata": {},
     "output_type": "execute_result"
    }
   ],
   "source": [
    "df.at[22, 'File']"
   ]
  },
  {
   "cell_type": "code",
   "execution_count": 16,
   "id": "7f6ba9b0-b1fa-4b2e-8916-298fdf6a01ed",
   "metadata": {
    "ExecuteTime": {
     "end_time": "2025-07-18T20:33:26.430898Z",
     "start_time": "2025-07-18T20:33:26.425086Z"
    }
   },
   "outputs": [
    {
     "data": {
      "text/plain": [
       "'cl_st1_ph1_fernanda_folders/cpa/24-25/r06/u113/CPA 2025 Fatec Mauá.pdf'"
      ]
     },
     "execution_count": 16,
     "metadata": {},
     "output_type": "execute_result"
    }
   ],
   "source": [
    "df.at[22, 'File Path']"
   ]
  },
  {
   "cell_type": "code",
   "execution_count": 17,
   "id": "5003b329-5115-4d87-9145-a6485fabeb82",
   "metadata": {
    "ExecuteTime": {
     "end_time": "2025-07-18T20:33:26.639263Z",
     "start_time": "2025-07-18T20:33:26.632761Z"
    }
   },
   "outputs": [
    {
     "data": {
      "text/plain": [
       "'t000022'"
      ]
     },
     "execution_count": 17,
     "metadata": {},
     "output_type": "execute_result"
    }
   ],
   "source": [
    "df.at[22, 'Text ID']"
   ]
  },
  {
   "cell_type": "code",
   "execution_count": 18,
   "id": "c99d8dac8daae645",
   "metadata": {
    "ExecuteTime": {
     "end_time": "2025-07-18T20:33:26.822927Z",
     "start_time": "2025-07-18T20:33:26.818424Z"
    }
   },
   "outputs": [
    {
     "data": {
      "text/plain": [
       "''"
      ]
     },
     "execution_count": 18,
     "metadata": {},
     "output_type": "execute_result"
    }
   ],
   "source": [
    "df.at[22, 'Scraped Text']"
   ]
  },
  {
   "cell_type": "markdown",
   "id": "2d44efd1545a41f",
   "metadata": {},
   "source": [
    "## Find texts that are empty"
   ]
  },
  {
   "cell_type": "markdown",
   "id": "b724d8cd932b517a",
   "metadata": {},
   "source": [
    "These are documents whose text could not be captured because they are probably image-based PDF documents. **They should be removed**."
   ]
  },
  {
   "cell_type": "code",
   "execution_count": 19,
   "id": "23805ebce7cbd907",
   "metadata": {
    "ExecuteTime": {
     "end_time": "2025-07-18T20:33:27.066280Z",
     "start_time": "2025-07-18T20:33:27.030085Z"
    }
   },
   "outputs": [
    {
     "data": {
      "text/plain": [
       "22    t000022\n",
       "Name: Text ID, dtype: object"
      ]
     },
     "execution_count": 19,
     "metadata": {},
     "output_type": "execute_result"
    }
   ],
   "source": [
    "# Find rows where the specified column has empty strings\n",
    "mask = df['Scraped Text'].str.len() == 0\n",
    "\n",
    "# Get the corresponding 'Text ID' values \n",
    "text_ids_with_missing_text = df[mask]['Text ID']\n",
    "\n",
    "text_ids_with_missing_text"
   ]
  },
  {
   "cell_type": "markdown",
   "id": "464898a8c5e30202",
   "metadata": {},
   "source": [
    "## Copy each original PDF file to ease the text review process"
   ]
  },
  {
   "cell_type": "code",
   "execution_count": 20,
   "id": "d71c23a1-bf2a-4ed1-a4ff-ad148e6ba35a",
   "metadata": {
    "ExecuteTime": {
     "end_time": "2025-07-18T20:33:28.607552Z",
     "start_time": "2025-07-18T20:33:27.252673Z"
    }
   },
   "outputs": [],
   "source": [
    "for index, row in df.iterrows():\n",
    "    source_path = row['File Path']\n",
    "    new_name = row['Text ID'] + '.pdf'\n",
    "    destination_path = os.path.join(output_directory, new_name)\n",
    "    try:\n",
    "        shutil.copy(source_path, destination_path)\n",
    "        logging.info(f\"Copied: {source_path} to {destination_path}\")\n",
    "    except Exception as e:\n",
    "        logging.error(f\"Error copying {source_path}: {str(e)}\")"
   ]
  },
  {
   "cell_type": "markdown",
   "id": "277799bf-4bb4-4a00-b60c-87e82329dc46",
   "metadata": {},
   "source": [
    "## Export each scraped text to individual files for review"
   ]
  },
  {
   "cell_type": "markdown",
   "id": "adeb81d0-a45e-4f02-851b-85b297a8d7e7",
   "metadata": {},
   "source": [
    "This cell has been set to 'raw' in order to avoid unintended overwrite of the the reviewed texts."
   ]
  },
  {
   "cell_type": "raw",
   "id": "3e776044-2e7f-4a4c-afad-5c22342dcfd8",
   "metadata": {
    "ExecuteTime": {
     "end_time": "2025-07-18T20:33:28.792780Z",
     "start_time": "2025-07-18T20:33:28.661686Z"
    }
   },
   "source": [
    "for index, row in df.iterrows():\n",
    "    # Constructing the file name based on row data and index\n",
    "    file_name = f\"{output_directory}/{row['Text ID']}.txt\"\n",
    "    \n",
    "    # Writing the 'Scraped Text' content to the file\n",
    "    with open(file_name, 'w', encoding='utf-8') as file:\n",
    "        file.write(row['Scraped Text'])"
   ]
  },
  {
   "cell_type": "markdown",
   "id": "1d788e57-e614-44a2-a9b7-c68513f6b3d8",
   "metadata": {},
   "source": [
    "## Manual inspection and clean up"
   ]
  },
  {
   "cell_type": "markdown",
   "id": "4777e189-7829-4d8a-97b9-0f2e7d030a8c",
   "metadata": {},
   "source": [
    "Inspect each document in TXT format and:\n",
    "\n",
    "- Remove titles and subtitles\n",
    "- Remove headers and footers\n",
    "- Remove elements such as tables, figures, references and appendices\n",
    "- **Separate sets of lines that constitute paragraphs with an empty line**\n",
    "- Indicate sections with the prefix `Section: `. For example: `Section: 1 INTRODUÇÃO`\n",
    "    - Ensure that sections are separated by an **empty line before and after it**\n",
    "    - **Do not modify** the prefix like:\n",
    "        - `Section : 1 INTRODUÇÃO`\n",
    "        - `Section:1 INTRODUÇÃO`\n",
    "        - `Seçion: 1 INTRODUÇÃO`\n",
    "        - `section: 1 INTRODUÇÃO`\n",
    "        - `Section - 1 INTRODUÇÃO`\n",
    "        - `SECTION: 1 INTRODUÇÃO`\n",
    "    - **Do not leave a section empty** like:\n",
    "        - `Section: `"
   ]
  },
  {
   "cell_type": "markdown",
   "id": "aa74c1f17bbb5804",
   "metadata": {},
   "source": [
    "### Example"
   ]
  },
  {
   "cell_type": "markdown",
   "id": "2ba43b28-1ec9-47ee-adfc-b9319e8f2290",
   "metadata": {},
   "source": [
    "```\n",
    "Section: 1 INTRODUÇÃO\n",
    "\n",
    "A Comissão Própria de Avaliação (CPA) da Faculdade de Tecnologia de Cotia\n",
    "foi constituída em março de 2016, e aprovada pelo Colegiado Máximo da Unidade de\n",
    "Ensino em 09/04/2016, conforme previsto pela Portaria CEETEPS-GDS nº 1305, de\n",
    "31 de maio de 2016 e Lei Federal nº 10.861/2004, com representação dos segmentos\n",
    "da comunidade universitária e de representante(s) da sociedade civil organizada.\n",
    "\n",
    "A finalidade dessa comissão é de contribuir com o planejamento, elaboração,\n",
    "coordenação e monitoramento da política de autoavaliação institucional, promovendo,\n",
    "no que couber, a interlocução com os órgãos de regulação, supervisão e avaliação.\n",
    "Esse relatório se refere à CPA da Fatec Cotia que foi formada no início do ano\n",
    "de 2021, cujos membros convidados a participar eram representantes da comunidade\n",
    "acadêmica: docentes, discentes, funcionários e comunidade externa.\n",
    "\n",
    "Section: 2 METODOLOGIA\n",
    "\n",
    "Para contribuir com a organização da Comissão Própria de Avaliação de cada\n",
    "Fatec, o Centro Paula Souza, por meio da Área de Avaliação Institucional (AAI) e da\n",
    "Unidade de Ensino Superior de Graduação (CESU), organizaram a comissão da CPA\n",
    "Central.\n",
    "\n",
    "Assumindo como centro organizativo as atribuições que lhe competem, a\n",
    "saber:\n",
    "\n",
    "I – Contribuir com o planejamento, orientação e monitoramento dos\n",
    "procedimentos da autoavaliação Institucional das FATECs;\n",
    "\n",
    "II – Utilizar os indicadores coletados nas unidades como instrumento de\n",
    "gestão, oferecendo subsídios para cada uma das áreas da administração\n",
    "central tomar as medidas corretivas;\n",
    "\n",
    "Por meio CPA Central cada Fatec e das Diretorias Pedagógicas Regionais\n",
    "recebe todo o suporte necessário para cumprir o que lhe compete a CPA conforme\n",
    "segue:\n",
    "\n",
    "1. contribuir\n",
    "com\n",
    "o\n",
    "planejamento,\n",
    "elaboração,\n",
    "coordenação\n",
    "e\n",
    "monitoramento dos processos de avaliação interna, apresentando o\n",
    "projeto de autoavaliação Institucional que norteará todos os\n",
    "procedimentos de autoavaliação para a CPA Central em consonância\n",
    "com a equipe de Supervisão Regional das FATECs.\n",
    "\n",
    "2. apoiar os processos internos de avaliação;\n",
    "\n",
    "3. sistematizar e prestar informações relativas às políticas de\n",
    "autoavaliação institucional, solicitadas pelos Sistemas Federal e\n",
    "Estadual de Avaliação da Educação Superior, além de atender à\n",
    "demanda interna da Supervisão Regional e da CPA Central do Centro\n",
    "Paula Souza;\n",
    "\n",
    "Section: 3 DESENVOLVIMENTO\n",
    "\n",
    "Considerando os instrumentos da autoavaliação, estruturados a partir das 10 dimensões previstas no\n",
    "art. 3º da Lei nº 10.861 (SINAES), nesta parte do relatório, a CPA deverá apresentar as informações\n",
    "que foram coletadas, a partir da organização de 5 eixos, que articulam as 10 dimensões, conforme\n",
    "disposto na Nota Técnica INEP nº 065, como segue:\n",
    "\n",
    "Nessa seção apresentamos os dados da pesquisa de forma gráfica procuram\n",
    "extrair as questões com respostas mais positivas e mais negativas para evidenciar\n",
    "os pontos fortes e fracos da instituição.\n",
    "\n",
    "\n",
    "\n",
    "Section: 5 CONSIDERAÇÕES FINAIS\n",
    "\n",
    "A Comissão Própria de Avaliação, pelo seu trabalho, visa oferecer subsídios capazes\n",
    "de subsidiar à tomada de decisão e ao planejamento institucional, na busca de\n",
    "contínua melhoria da qualidade do ensino, da pesquisa, da extensão e da gestão.\n",
    "Sendo assim um importante instrumento para a Direção.\n",
    "\n",
    "Dentre as principais ações advindas desse processo, podemos salientar:\n",
    "\n",
    "• a confiança que professores, funcionários e alunos têm na direção, nos\n",
    "coordenadores e\n",
    "nos\n",
    "órgãos\n",
    "colegiados\n",
    "da\n",
    "instituição; às\n",
    "vezes\n",
    "desconhecendo a missão da Instituição.\n",
    "\n",
    "• o ensino remoto forçado mudou a forma do aluno estudar e do professor\n",
    "lecionar. O retorno presencial foi planejado visando o acolhimento;\n",
    "\n",
    "Os resultados apresentados contemplam as dez dimensões auto avaliativas do\n",
    "SINAES e foram analisados e discutidos por todos os membros da comunidade\n",
    "institucional: direção, coordenações de cursos, setores administrativos, gestores,\n",
    "professores e alunos.\n",
    "\n",
    "Os dados coletados, as análises e propostas foram amplamente divulgadas e serão\n",
    "objeto de comparação na próxima avaliação, para elucidar os avanços alcançados,\n",
    "reforçando o quanto a avaliação contribui para a gestão dos resultados.\n",
    "\n",
    "```"
   ]
  },
  {
   "cell_type": "markdown",
   "id": "19f79b2b43c98339",
   "metadata": {},
   "source": [
    "## Merge lines into paragraphs"
   ]
  },
  {
   "cell_type": "code",
   "execution_count": 22,
   "id": "95bf12e35bace106",
   "metadata": {
    "ExecuteTime": {
     "end_time": "2025-07-18T20:35:27.009201Z",
     "start_time": "2025-07-18T20:35:25.783709Z"
    }
   },
   "outputs": [
    {
     "name": "stderr",
     "output_type": "stream",
     "text": [
      "Processing files: 100%|██████████| 113/113 [00:01<00:00, 109.62it/s]\n"
     ]
    }
   ],
   "source": [
    "# Defining a function to tokenise the paragraphs of each article\n",
    "def paragraph_tokenise(text):\n",
    "    lines = text.split('\\n')\n",
    "    paragraphs = []\n",
    "    paragraph = ''\n",
    "    \n",
    "    for line in lines:\n",
    "        if line.strip():\n",
    "            cleaned_line = ' '.join(line.split())  # Remove extra spaces within the line\n",
    "            paragraph += ' ' + cleaned_line.strip()  # Join subsequent lines into a paragraph\n",
    "        else:\n",
    "            paragraphs.append(paragraph.strip())  # If there is an empty line, the paragraph consolidated so far is added to the list of paragraphs\n",
    "            paragraph = ''  # The paragraph variable is cleared out\n",
    "    \n",
    "    if paragraph:\n",
    "        paragraphs.append(paragraph.strip())  # The last paragraph is added to the list of paragraphs\n",
    "    \n",
    "    tokenised_paragraphs = '\\n'.join(paragraphs)  # The list of paragraphs is compiled into a text with each paragraph as a separate line\n",
    "    \n",
    "    return tokenised_paragraphs\n",
    "\n",
    "# Defining a function to read the content of a TXT file\n",
    "def read_txt_file(file_path):\n",
    "    try:\n",
    "        with open(file_path, 'r', encoding='utf-8') as file:\n",
    "            return file.read()\n",
    "    except Exception as e:\n",
    "        logging.error(f\"Error reading file {file_path}: {e}\")\n",
    "        return None\n",
    "\n",
    "# Defining a function to save the paragraph-tokenised articles into TXT files\n",
    "def save_paragraph_tokenised_file(output_text_content, output_file):\n",
    "    try:\n",
    "        with open(output_file, 'w', encoding='utf-8') as output_txt_file:\n",
    "            output_txt_file.write(output_text_content)\n",
    "        logging.info(f\"Successfully saved tokenised file: {output_file}\")\n",
    "    except Exception as e:\n",
    "        logging.error(f\"Error saving file {output_file}: {e}\")\n",
    "\n",
    "# Iterating through each row in the DataFrame and add the text content\n",
    "for index, row in tqdm(df.iterrows(), total=df.shape[0], desc='Processing files'):\n",
    "    text_id = row['Text ID']\n",
    "    txt_file_path = os.path.join(output_directory, f\"{text_id}.txt\")\n",
    "    if os.path.exists(txt_file_path):\n",
    "        text_content = read_txt_file(txt_file_path)\n",
    "        if text_content:\n",
    "            paragraph_tokenised_text_content = paragraph_tokenise(text_content)\n",
    "            save_paragraph_tokenised_file(paragraph_tokenised_text_content, f\"{output_directory}/{text_id}_tokenised.txt\")\n",
    "    else:\n",
    "        logging.warning(f\"File not found: {txt_file_path}\")"
   ]
  },
  {
   "cell_type": "markdown",
   "id": "82e71e0c847e941e",
   "metadata": {},
   "source": [
    "## Break down the texts into sections and paragraphs"
   ]
  },
  {
   "cell_type": "code",
   "execution_count": 23,
   "id": "c94f258c8a4dc68d",
   "metadata": {
    "ExecuteTime": {
     "end_time": "2025-07-18T20:35:27.589263Z",
     "start_time": "2025-07-18T20:35:27.066361Z"
    }
   },
   "outputs": [
    {
     "name": "stdout",
     "output_type": "stream",
     "text": [
      "Missing file: cl_st1_ph1_output/t000022_tokenised.txt\n"
     ]
    }
   ],
   "source": [
    "# Prepare to collect rows\n",
    "data = []\n",
    "\n",
    "# Loop through each 'Text ID' in df\n",
    "for _, row in df.iterrows():\n",
    "    text_id = row['Text ID']\n",
    "\n",
    "    paragraph_count = 0\n",
    "    section = None\n",
    "    file_path = os.path.join(output_directory, f\"{text_id}_tokenised.txt\")\n",
    "\n",
    "    if not os.path.isfile(file_path):\n",
    "        print(f\"Missing file: {file_path}\")\n",
    "        continue\n",
    "\n",
    "    with open(file_path, 'r', encoding='utf-8') as file:\n",
    "        for line in file:\n",
    "            line = ' '.join(line.split()).strip()\n",
    "\n",
    "            if line.startswith('Section:'):\n",
    "                section_name = line.partition(':')[2].strip()\n",
    "                # If a section line is blank or only has the colon, we gracefully assign the fallback name 'Undefined Section'\n",
    "                section = section_name if section_name else 'Undefined Section'\n",
    "                paragraph_count = 0  # Resetting paragraph count for new section\n",
    "\n",
    "            elif line:\n",
    "                paragraph_count += 1\n",
    "                data.append({\n",
    "                    'Text ID': text_id,\n",
    "                    'Section': section,\n",
    "                    'Paragraph': f\"Paragraph {paragraph_count}\",\n",
    "                    'Text Paragraph': line\n",
    "                })\n",
    "\n",
    "# Create final DataFrame\n",
    "df_section_paragraph = pd.DataFrame(data)"
   ]
  },
  {
   "cell_type": "code",
   "execution_count": 24,
   "id": "5d6a9cd0-17b6-441a-b90e-60a16db72f3e",
   "metadata": {
    "ExecuteTime": {
     "end_time": "2025-07-18T20:35:27.624841Z",
     "start_time": "2025-07-18T20:35:27.611387Z"
    }
   },
   "outputs": [
    {
     "data": {
      "text/html": [
       "<div>\n",
       "<style scoped>\n",
       "    .dataframe tbody tr th:only-of-type {\n",
       "        vertical-align: middle;\n",
       "    }\n",
       "\n",
       "    .dataframe tbody tr th {\n",
       "        vertical-align: top;\n",
       "    }\n",
       "\n",
       "    .dataframe thead th {\n",
       "        text-align: right;\n",
       "    }\n",
       "</style>\n",
       "<table border=\"1\" class=\"dataframe\">\n",
       "  <thead>\n",
       "    <tr style=\"text-align: right;\">\n",
       "      <th></th>\n",
       "      <th>Text ID</th>\n",
       "      <th>Section</th>\n",
       "      <th>Paragraph</th>\n",
       "      <th>Text Paragraph</th>\n",
       "    </tr>\n",
       "  </thead>\n",
       "  <tbody>\n",
       "    <tr>\n",
       "      <th>0</th>\n",
       "      <td>t000000</td>\n",
       "      <td>1 INTRODUÇÃO</td>\n",
       "      <td>Paragraph 1</td>\n",
       "      <td>A Comissão Própria de Avaliação (CPA) da Facul...</td>\n",
       "    </tr>\n",
       "    <tr>\n",
       "      <th>1</th>\n",
       "      <td>t000000</td>\n",
       "      <td>1 INTRODUÇÃO</td>\n",
       "      <td>Paragraph 2</td>\n",
       "      <td>A finalidade dessa comissão é de contribuir co...</td>\n",
       "    </tr>\n",
       "    <tr>\n",
       "      <th>2</th>\n",
       "      <td>t000000</td>\n",
       "      <td>1 INTRODUÇÃO</td>\n",
       "      <td>Paragraph 3</td>\n",
       "      <td>A Fatec Cotia possui a crença na avaliação com...</td>\n",
       "    </tr>\n",
       "    <tr>\n",
       "      <th>3</th>\n",
       "      <td>t000000</td>\n",
       "      <td>1 INTRODUÇÃO</td>\n",
       "      <td>Paragraph 4</td>\n",
       "      <td>Sabe-se que a Lei 10.861/2014, que define o Si...</td>\n",
       "    </tr>\n",
       "    <tr>\n",
       "      <th>4</th>\n",
       "      <td>t000000</td>\n",
       "      <td>1 INTRODUÇÃO</td>\n",
       "      <td>Paragraph 5</td>\n",
       "      <td>Pelo presente relatório, serão apresentados os...</td>\n",
       "    </tr>\n",
       "    <tr>\n",
       "      <th>...</th>\n",
       "      <td>...</td>\n",
       "      <td>...</td>\n",
       "      <td>...</td>\n",
       "      <td>...</td>\n",
       "    </tr>\n",
       "    <tr>\n",
       "      <th>34773</th>\n",
       "      <td>t000112</td>\n",
       "      <td>None</td>\n",
       "      <td>Paragraph 31</td>\n",
       "      <td>12</td>\n",
       "    </tr>\n",
       "    <tr>\n",
       "      <th>34774</th>\n",
       "      <td>t000112</td>\n",
       "      <td>None</td>\n",
       "      <td>Paragraph 32</td>\n",
       "      <td>ANEXO II – ANÁLISE DO COORDENADOR(A) DE PROJET...</td>\n",
       "    </tr>\n",
       "    <tr>\n",
       "      <th>34775</th>\n",
       "      <td>t000112</td>\n",
       "      <td>None</td>\n",
       "      <td>Paragraph 33</td>\n",
       "      <td>Regional:</td>\n",
       "    </tr>\n",
       "    <tr>\n",
       "      <th>34776</th>\n",
       "      <td>t000112</td>\n",
       "      <td>None</td>\n",
       "      <td>Paragraph 34</td>\n",
       "      <td>Coordenador(a) de Projetos CESU:</td>\n",
       "    </tr>\n",
       "    <tr>\n",
       "      <th>34777</th>\n",
       "      <td>t000112</td>\n",
       "      <td>None</td>\n",
       "      <td>Paragraph 35</td>\n",
       "      <td>Considerações Gerais:</td>\n",
       "    </tr>\n",
       "  </tbody>\n",
       "</table>\n",
       "<p>34778 rows × 4 columns</p>\n",
       "</div>"
      ],
      "text/plain": [
       "       Text ID       Section     Paragraph  \\\n",
       "0      t000000  1 INTRODUÇÃO   Paragraph 1   \n",
       "1      t000000  1 INTRODUÇÃO   Paragraph 2   \n",
       "2      t000000  1 INTRODUÇÃO   Paragraph 3   \n",
       "3      t000000  1 INTRODUÇÃO   Paragraph 4   \n",
       "4      t000000  1 INTRODUÇÃO   Paragraph 5   \n",
       "...        ...           ...           ...   \n",
       "34773  t000112          None  Paragraph 31   \n",
       "34774  t000112          None  Paragraph 32   \n",
       "34775  t000112          None  Paragraph 33   \n",
       "34776  t000112          None  Paragraph 34   \n",
       "34777  t000112          None  Paragraph 35   \n",
       "\n",
       "                                          Text Paragraph  \n",
       "0      A Comissão Própria de Avaliação (CPA) da Facul...  \n",
       "1      A finalidade dessa comissão é de contribuir co...  \n",
       "2      A Fatec Cotia possui a crença na avaliação com...  \n",
       "3      Sabe-se que a Lei 10.861/2014, que define o Si...  \n",
       "4      Pelo presente relatório, serão apresentados os...  \n",
       "...                                                  ...  \n",
       "34773                                                 12  \n",
       "34774  ANEXO II – ANÁLISE DO COORDENADOR(A) DE PROJET...  \n",
       "34775                                          Regional:  \n",
       "34776                   Coordenador(a) de Projetos CESU:  \n",
       "34777                              Considerações Gerais:  \n",
       "\n",
       "[34778 rows x 4 columns]"
      ]
     },
     "execution_count": 24,
     "metadata": {},
     "output_type": "execute_result"
    }
   ],
   "source": [
    "df_section_paragraph"
   ]
  },
  {
   "cell_type": "markdown",
   "id": "d50b8817029344ac",
   "metadata": {},
   "source": [
    "## Merge `df` into `df_section_paragraph` to obtain `df_fatec`"
   ]
  },
  {
   "cell_type": "code",
   "execution_count": 25,
   "id": "17dcf38dccdd8417",
   "metadata": {
    "ExecuteTime": {
     "end_time": "2025-07-18T20:35:27.726885Z",
     "start_time": "2025-07-18T20:35:27.716938Z"
    }
   },
   "outputs": [],
   "source": [
    "df.drop(columns=['Scraped Text'], inplace=True)"
   ]
  },
  {
   "cell_type": "code",
   "execution_count": 26,
   "id": "bafeed028e5b7231",
   "metadata": {
    "ExecuteTime": {
     "end_time": "2025-07-18T20:35:28.070133Z",
     "start_time": "2025-07-18T20:35:28.003207Z"
    }
   },
   "outputs": [],
   "source": [
    "df_fatec = df.merge(df_section_paragraph, on='Text ID', how='left')"
   ]
  },
  {
   "cell_type": "code",
   "execution_count": 27,
   "id": "64680c45ba5b2e5b",
   "metadata": {
    "ExecuteTime": {
     "end_time": "2025-07-18T20:35:28.315205Z",
     "start_time": "2025-07-18T20:35:28.277913Z"
    }
   },
   "outputs": [
    {
     "data": {
      "text/html": [
       "<div>\n",
       "<style scoped>\n",
       "    .dataframe tbody tr th:only-of-type {\n",
       "        vertical-align: middle;\n",
       "    }\n",
       "\n",
       "    .dataframe tbody tr th {\n",
       "        vertical-align: top;\n",
       "    }\n",
       "\n",
       "    .dataframe thead th {\n",
       "        text-align: right;\n",
       "    }\n",
       "</style>\n",
       "<table border=\"1\" class=\"dataframe\">\n",
       "  <thead>\n",
       "    <tr style=\"text-align: right;\">\n",
       "      <th></th>\n",
       "      <th>Root Directory</th>\n",
       "      <th>Document Type</th>\n",
       "      <th>Year</th>\n",
       "      <th>Branch</th>\n",
       "      <th>Unit</th>\n",
       "      <th>File</th>\n",
       "      <th>File Path</th>\n",
       "      <th>Text ID</th>\n",
       "      <th>Section</th>\n",
       "      <th>Paragraph</th>\n",
       "      <th>Text Paragraph</th>\n",
       "    </tr>\n",
       "  </thead>\n",
       "  <tbody>\n",
       "    <tr>\n",
       "      <th>0</th>\n",
       "      <td>cl_st1_ph1_fernanda_folders</td>\n",
       "      <td>cpa</td>\n",
       "      <td>22-23</td>\n",
       "      <td>r06</td>\n",
       "      <td>u270</td>\n",
       "      <td>CPA 2023 Fatec Cotia.pdf</td>\n",
       "      <td>cl_st1_ph1_fernanda_folders/cpa/22-23/r06/u270...</td>\n",
       "      <td>t000000</td>\n",
       "      <td>1 INTRODUÇÃO</td>\n",
       "      <td>Paragraph 1</td>\n",
       "      <td>A Comissão Própria de Avaliação (CPA) da Facul...</td>\n",
       "    </tr>\n",
       "    <tr>\n",
       "      <th>1</th>\n",
       "      <td>cl_st1_ph1_fernanda_folders</td>\n",
       "      <td>cpa</td>\n",
       "      <td>22-23</td>\n",
       "      <td>r06</td>\n",
       "      <td>u270</td>\n",
       "      <td>CPA 2023 Fatec Cotia.pdf</td>\n",
       "      <td>cl_st1_ph1_fernanda_folders/cpa/22-23/r06/u270...</td>\n",
       "      <td>t000000</td>\n",
       "      <td>1 INTRODUÇÃO</td>\n",
       "      <td>Paragraph 2</td>\n",
       "      <td>A finalidade dessa comissão é de contribuir co...</td>\n",
       "    </tr>\n",
       "    <tr>\n",
       "      <th>2</th>\n",
       "      <td>cl_st1_ph1_fernanda_folders</td>\n",
       "      <td>cpa</td>\n",
       "      <td>22-23</td>\n",
       "      <td>r06</td>\n",
       "      <td>u270</td>\n",
       "      <td>CPA 2023 Fatec Cotia.pdf</td>\n",
       "      <td>cl_st1_ph1_fernanda_folders/cpa/22-23/r06/u270...</td>\n",
       "      <td>t000000</td>\n",
       "      <td>1 INTRODUÇÃO</td>\n",
       "      <td>Paragraph 3</td>\n",
       "      <td>A Fatec Cotia possui a crença na avaliação com...</td>\n",
       "    </tr>\n",
       "    <tr>\n",
       "      <th>3</th>\n",
       "      <td>cl_st1_ph1_fernanda_folders</td>\n",
       "      <td>cpa</td>\n",
       "      <td>22-23</td>\n",
       "      <td>r06</td>\n",
       "      <td>u270</td>\n",
       "      <td>CPA 2023 Fatec Cotia.pdf</td>\n",
       "      <td>cl_st1_ph1_fernanda_folders/cpa/22-23/r06/u270...</td>\n",
       "      <td>t000000</td>\n",
       "      <td>1 INTRODUÇÃO</td>\n",
       "      <td>Paragraph 4</td>\n",
       "      <td>Sabe-se que a Lei 10.861/2014, que define o Si...</td>\n",
       "    </tr>\n",
       "    <tr>\n",
       "      <th>4</th>\n",
       "      <td>cl_st1_ph1_fernanda_folders</td>\n",
       "      <td>cpa</td>\n",
       "      <td>22-23</td>\n",
       "      <td>r06</td>\n",
       "      <td>u270</td>\n",
       "      <td>CPA 2023 Fatec Cotia.pdf</td>\n",
       "      <td>cl_st1_ph1_fernanda_folders/cpa/22-23/r06/u270...</td>\n",
       "      <td>t000000</td>\n",
       "      <td>1 INTRODUÇÃO</td>\n",
       "      <td>Paragraph 5</td>\n",
       "      <td>Pelo presente relatório, serão apresentados os...</td>\n",
       "    </tr>\n",
       "    <tr>\n",
       "      <th>...</th>\n",
       "      <td>...</td>\n",
       "      <td>...</td>\n",
       "      <td>...</td>\n",
       "      <td>...</td>\n",
       "      <td>...</td>\n",
       "      <td>...</td>\n",
       "      <td>...</td>\n",
       "      <td>...</td>\n",
       "      <td>...</td>\n",
       "      <td>...</td>\n",
       "      <td>...</td>\n",
       "    </tr>\n",
       "    <tr>\n",
       "      <th>34774</th>\n",
       "      <td>cl_st1_ph1_fernanda_folders</td>\n",
       "      <td>rade</td>\n",
       "      <td>23-24</td>\n",
       "      <td>r06</td>\n",
       "      <td>u129</td>\n",
       "      <td>RADE e2022_r2024 Fatec_Praia Grande v.02.pdf</td>\n",
       "      <td>cl_st1_ph1_fernanda_folders/rade/23-24/r06/u12...</td>\n",
       "      <td>t000112</td>\n",
       "      <td>None</td>\n",
       "      <td>Paragraph 31</td>\n",
       "      <td>12</td>\n",
       "    </tr>\n",
       "    <tr>\n",
       "      <th>34775</th>\n",
       "      <td>cl_st1_ph1_fernanda_folders</td>\n",
       "      <td>rade</td>\n",
       "      <td>23-24</td>\n",
       "      <td>r06</td>\n",
       "      <td>u129</td>\n",
       "      <td>RADE e2022_r2024 Fatec_Praia Grande v.02.pdf</td>\n",
       "      <td>cl_st1_ph1_fernanda_folders/rade/23-24/r06/u12...</td>\n",
       "      <td>t000112</td>\n",
       "      <td>None</td>\n",
       "      <td>Paragraph 32</td>\n",
       "      <td>ANEXO II – ANÁLISE DO COORDENADOR(A) DE PROJET...</td>\n",
       "    </tr>\n",
       "    <tr>\n",
       "      <th>34776</th>\n",
       "      <td>cl_st1_ph1_fernanda_folders</td>\n",
       "      <td>rade</td>\n",
       "      <td>23-24</td>\n",
       "      <td>r06</td>\n",
       "      <td>u129</td>\n",
       "      <td>RADE e2022_r2024 Fatec_Praia Grande v.02.pdf</td>\n",
       "      <td>cl_st1_ph1_fernanda_folders/rade/23-24/r06/u12...</td>\n",
       "      <td>t000112</td>\n",
       "      <td>None</td>\n",
       "      <td>Paragraph 33</td>\n",
       "      <td>Regional:</td>\n",
       "    </tr>\n",
       "    <tr>\n",
       "      <th>34777</th>\n",
       "      <td>cl_st1_ph1_fernanda_folders</td>\n",
       "      <td>rade</td>\n",
       "      <td>23-24</td>\n",
       "      <td>r06</td>\n",
       "      <td>u129</td>\n",
       "      <td>RADE e2022_r2024 Fatec_Praia Grande v.02.pdf</td>\n",
       "      <td>cl_st1_ph1_fernanda_folders/rade/23-24/r06/u12...</td>\n",
       "      <td>t000112</td>\n",
       "      <td>None</td>\n",
       "      <td>Paragraph 34</td>\n",
       "      <td>Coordenador(a) de Projetos CESU:</td>\n",
       "    </tr>\n",
       "    <tr>\n",
       "      <th>34778</th>\n",
       "      <td>cl_st1_ph1_fernanda_folders</td>\n",
       "      <td>rade</td>\n",
       "      <td>23-24</td>\n",
       "      <td>r06</td>\n",
       "      <td>u129</td>\n",
       "      <td>RADE e2022_r2024 Fatec_Praia Grande v.02.pdf</td>\n",
       "      <td>cl_st1_ph1_fernanda_folders/rade/23-24/r06/u12...</td>\n",
       "      <td>t000112</td>\n",
       "      <td>None</td>\n",
       "      <td>Paragraph 35</td>\n",
       "      <td>Considerações Gerais:</td>\n",
       "    </tr>\n",
       "  </tbody>\n",
       "</table>\n",
       "<p>34779 rows × 11 columns</p>\n",
       "</div>"
      ],
      "text/plain": [
       "                    Root Directory Document Type   Year Branch  Unit  \\\n",
       "0      cl_st1_ph1_fernanda_folders           cpa  22-23    r06  u270   \n",
       "1      cl_st1_ph1_fernanda_folders           cpa  22-23    r06  u270   \n",
       "2      cl_st1_ph1_fernanda_folders           cpa  22-23    r06  u270   \n",
       "3      cl_st1_ph1_fernanda_folders           cpa  22-23    r06  u270   \n",
       "4      cl_st1_ph1_fernanda_folders           cpa  22-23    r06  u270   \n",
       "...                            ...           ...    ...    ...   ...   \n",
       "34774  cl_st1_ph1_fernanda_folders          rade  23-24    r06  u129   \n",
       "34775  cl_st1_ph1_fernanda_folders          rade  23-24    r06  u129   \n",
       "34776  cl_st1_ph1_fernanda_folders          rade  23-24    r06  u129   \n",
       "34777  cl_st1_ph1_fernanda_folders          rade  23-24    r06  u129   \n",
       "34778  cl_st1_ph1_fernanda_folders          rade  23-24    r06  u129   \n",
       "\n",
       "                                               File  \\\n",
       "0                          CPA 2023 Fatec Cotia.pdf   \n",
       "1                          CPA 2023 Fatec Cotia.pdf   \n",
       "2                          CPA 2023 Fatec Cotia.pdf   \n",
       "3                          CPA 2023 Fatec Cotia.pdf   \n",
       "4                          CPA 2023 Fatec Cotia.pdf   \n",
       "...                                             ...   \n",
       "34774  RADE e2022_r2024 Fatec_Praia Grande v.02.pdf   \n",
       "34775  RADE e2022_r2024 Fatec_Praia Grande v.02.pdf   \n",
       "34776  RADE e2022_r2024 Fatec_Praia Grande v.02.pdf   \n",
       "34777  RADE e2022_r2024 Fatec_Praia Grande v.02.pdf   \n",
       "34778  RADE e2022_r2024 Fatec_Praia Grande v.02.pdf   \n",
       "\n",
       "                                               File Path  Text ID  \\\n",
       "0      cl_st1_ph1_fernanda_folders/cpa/22-23/r06/u270...  t000000   \n",
       "1      cl_st1_ph1_fernanda_folders/cpa/22-23/r06/u270...  t000000   \n",
       "2      cl_st1_ph1_fernanda_folders/cpa/22-23/r06/u270...  t000000   \n",
       "3      cl_st1_ph1_fernanda_folders/cpa/22-23/r06/u270...  t000000   \n",
       "4      cl_st1_ph1_fernanda_folders/cpa/22-23/r06/u270...  t000000   \n",
       "...                                                  ...      ...   \n",
       "34774  cl_st1_ph1_fernanda_folders/rade/23-24/r06/u12...  t000112   \n",
       "34775  cl_st1_ph1_fernanda_folders/rade/23-24/r06/u12...  t000112   \n",
       "34776  cl_st1_ph1_fernanda_folders/rade/23-24/r06/u12...  t000112   \n",
       "34777  cl_st1_ph1_fernanda_folders/rade/23-24/r06/u12...  t000112   \n",
       "34778  cl_st1_ph1_fernanda_folders/rade/23-24/r06/u12...  t000112   \n",
       "\n",
       "            Section     Paragraph  \\\n",
       "0      1 INTRODUÇÃO   Paragraph 1   \n",
       "1      1 INTRODUÇÃO   Paragraph 2   \n",
       "2      1 INTRODUÇÃO   Paragraph 3   \n",
       "3      1 INTRODUÇÃO   Paragraph 4   \n",
       "4      1 INTRODUÇÃO   Paragraph 5   \n",
       "...             ...           ...   \n",
       "34774          None  Paragraph 31   \n",
       "34775          None  Paragraph 32   \n",
       "34776          None  Paragraph 33   \n",
       "34777          None  Paragraph 34   \n",
       "34778          None  Paragraph 35   \n",
       "\n",
       "                                          Text Paragraph  \n",
       "0      A Comissão Própria de Avaliação (CPA) da Facul...  \n",
       "1      A finalidade dessa comissão é de contribuir co...  \n",
       "2      A Fatec Cotia possui a crença na avaliação com...  \n",
       "3      Sabe-se que a Lei 10.861/2014, que define o Si...  \n",
       "4      Pelo presente relatório, serão apresentados os...  \n",
       "...                                                  ...  \n",
       "34774                                                 12  \n",
       "34775  ANEXO II – ANÁLISE DO COORDENADOR(A) DE PROJET...  \n",
       "34776                                          Regional:  \n",
       "34777                   Coordenador(a) de Projetos CESU:  \n",
       "34778                              Considerações Gerais:  \n",
       "\n",
       "[34779 rows x 11 columns]"
      ]
     },
     "execution_count": 27,
     "metadata": {},
     "output_type": "execute_result"
    }
   ],
   "source": [
    "df_fatec"
   ]
  },
  {
   "cell_type": "markdown",
   "id": "218c2005288798f0",
   "metadata": {},
   "source": [
    "## Inspect a few rows"
   ]
  },
  {
   "cell_type": "code",
   "execution_count": null,
   "id": "572f42b3b18c5d94",
   "metadata": {
    "jupyter": {
     "is_executing": true
    }
   },
   "outputs": [],
   "source": [
    "print(df_fatec.at[17, 'Text Paragraph'])"
   ]
  },
  {
   "cell_type": "markdown",
   "id": "87ca52e623d781f0",
   "metadata": {},
   "source": [
    "## Export to a file"
   ]
  },
  {
   "cell_type": "code",
   "execution_count": 31,
   "id": "ec1daed4-53a8-4589-8ad0-983e29d7cdca",
   "metadata": {
    "ExecuteTime": {
     "end_time": "2025-07-18T20:29:44.610002Z",
     "start_time": "2025-07-18T20:29:44.170671Z"
    }
   },
   "outputs": [],
   "source": [
    "df_fatec.to_json(f\"{output_directory}/cl_st1_ph1_fernanda.jsonl\", orient='records', lines=True)"
   ]
  },
  {
   "cell_type": "code",
   "execution_count": 32,
   "id": "a475857c-6f84-4fc6-86c3-e4b84a177e11",
   "metadata": {
    "ExecuteTime": {
     "end_time": "2025-07-18T20:29:54.015297Z",
     "start_time": "2025-07-18T20:29:46.146318Z"
    }
   },
   "outputs": [],
   "source": [
    "df_fatec.to_excel(f\"{output_directory}/cl_st1_ph1_fernanda.xlsx\", index=False)"
   ]
  },
  {
   "cell_type": "code",
   "execution_count": null,
   "id": "5245e9e10430b82f",
   "metadata": {},
   "outputs": [],
   "source": []
  }
 ],
 "metadata": {
  "kernelspec": {
   "display_name": "Python 3 (ipykernel)",
   "language": "python",
   "name": "python3"
  },
  "language_info": {
   "codemirror_mode": {
    "name": "ipython",
    "version": 3
   },
   "file_extension": ".py",
   "mimetype": "text/x-python",
   "name": "python",
   "nbconvert_exporter": "python",
   "pygments_lexer": "ipython3",
   "version": "3.12.11"
  }
 },
 "nbformat": 4,
 "nbformat_minor": 5
}
